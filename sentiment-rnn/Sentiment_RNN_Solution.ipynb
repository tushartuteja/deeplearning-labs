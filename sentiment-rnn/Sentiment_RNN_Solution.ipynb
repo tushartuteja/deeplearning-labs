{
 "cells": [
  {
   "cell_type": "markdown",
   "metadata": {
    "deletable": true,
    "editable": true
   },
   "source": [
    "# Sentiment Analysis with an RNN\n",
    "\n",
    "In this notebook, you'll implement a recurrent neural network that performs sentiment analysis. Using an RNN rather than a feedfoward network is more accurate since we can include information about the *sequence* of words. Here we'll use a dataset of movie reviews, accompanied by labels.\n",
    "\n",
    "The architecture for this network is shown below.\n",
    "\n",
    "<img src=\"assets/network_diagram.png\" width=400px>\n",
    "\n",
    "Here, we'll pass in words to an embedding layer. We need an embedding layer because we have tens of thousands of words, so we'll need a more efficient representation for our input data than one-hot encoded vectors. You should have seen this before from the word2vec lesson. You can actually train up an embedding with word2vec and use it here. But it's good enough to just have an embedding layer and let the network learn the embedding table on it's own.\n",
    "\n",
    "From the embedding layer, the new representations will be passed to LSTM cells. These will add recurrent connections to the network so we can include information about the sequence of words in the data. Finally, the LSTM cells will go to a sigmoid output layer here. We're using the sigmoid because we're trying to predict if this text has positive or negative sentiment. The output layer will just be a single unit then, with a sigmoid activation function.\n",
    "\n",
    "We don't care about the sigmoid outputs except for the very last one, we can ignore the rest. We'll calculate the cost from the output of the last step and the training label."
   ]
  },
  {
   "cell_type": "code",
   "execution_count": 2,
   "metadata": {
    "collapsed": true,
    "deletable": true,
    "editable": true
   },
   "outputs": [],
   "source": [
    "import numpy as np\n",
    "import tensorflow as tf"
   ]
  },
  {
   "cell_type": "code",
   "execution_count": 3,
   "metadata": {
    "collapsed": true,
    "deletable": true,
    "editable": true
   },
   "outputs": [],
   "source": [
    "with open('../sentiment-network/reviews.txt', 'r') as f:\n",
    "    reviews = f.read()\n",
    "with open('../sentiment-network/labels.txt', 'r') as f:\n",
    "    labels = f.read()"
   ]
  },
  {
   "cell_type": "code",
   "execution_count": 4,
   "metadata": {
    "collapsed": false,
    "deletable": true,
    "editable": true
   },
   "outputs": [
    {
     "data": {
      "text/plain": [
       "'bromwell high is a cartoon comedy . it ran at the same time as some other programs about school life  such as  teachers  . my   years in the teaching profession lead me to believe that bromwell high  s satire is much closer to reality than is  teachers  . the scramble to survive financially  the insightful students who can see right through their pathetic teachers  pomp  the pettiness of the whole situation  all remind me of the schools i knew and their students . when i saw the episode in which a student repeatedly tried to burn down the school  i immediately recalled . . . . . . . . . at . . . . . . . . . . high . a classic line inspector i  m here to sack one of your teachers . student welcome to bromwell high . i expect that many adults of my age think that bromwell high is far fetched . what a pity that it isn  t   \\nstory of a man who has unnatural feelings for a pig . starts out with a opening scene that is a terrific example of absurd comedy . a formal orchestra audience is turned into an insane  violent mob by the crazy chantings of it  s singers . unfortunately it stays absurd the whole time with no general narrative eventually making it just too off putting . even those from the era should be turned off . the cryptic dialogue would make shakespeare seem easy to a third grader . on a technical level it  s better than you might think with some good cinematography by future great vilmos zsigmond . future stars sally kirkland and frederic forrest can be seen briefly .  \\nhomelessness  or houselessness as george carlin stated  has been an issue for years but never a plan to help those on the street that were once considered human who did everything from going to school  work  or vote for the matter . most people think of the homeless as just a lost cause while worrying about things such as racism  the war on iraq  pressuring kids to succeed  technology  the elections  inflation  or worrying if they  ll be next to end up on the streets .  br    br   but what if y'"
      ]
     },
     "execution_count": 4,
     "metadata": {},
     "output_type": "execute_result"
    }
   ],
   "source": [
    "reviews[:2000]"
   ]
  },
  {
   "cell_type": "markdown",
   "metadata": {
    "deletable": true,
    "editable": true
   },
   "source": [
    "## Data preprocessing\n",
    "\n",
    "The first step when building a neural network model is getting your data into the proper form to feed into the network. Since we're using embedding layers, we'll need to encode each word with an integer. We'll also want to clean it up a bit.\n",
    "\n",
    "You can see an example of the reviews data above. We'll want to get rid of those periods. Also, you might notice that the reviews are delimited with newlines `\\n`. To deal with those, I'm going to split the text into each review using `\\n` as the delimiter. Then I can combined all the reviews back together into one big string.\n",
    "\n",
    "First, let's remove all punctuation. Then get all the text without the newlines and split it into individual words."
   ]
  },
  {
   "cell_type": "code",
   "execution_count": 5,
   "metadata": {
    "collapsed": true,
    "deletable": true,
    "editable": true
   },
   "outputs": [],
   "source": [
    "from string import punctuation\n",
    "all_text = ''.join([c for c in reviews if c not in punctuation])\n",
    "reviews = all_text.split('\\n')\n",
    "\n",
    "all_text = ' '.join(reviews)\n",
    "words = all_text.split()"
   ]
  },
  {
   "cell_type": "code",
   "execution_count": 6,
   "metadata": {
    "collapsed": false,
    "deletable": true,
    "editable": true
   },
   "outputs": [
    {
     "data": {
      "text/plain": [
       "'bromwell high is a cartoon comedy  it ran at the same time as some other programs about school life  such as  teachers   my   years in the teaching profession lead me to believe that bromwell high  s satire is much closer to reality than is  teachers   the scramble to survive financially  the insightful students who can see right through their pathetic teachers  pomp  the pettiness of the whole situation  all remind me of the schools i knew and their students  when i saw the episode in which a student repeatedly tried to burn down the school  i immediately recalled          at           high  a classic line inspector i  m here to sack one of your teachers  student welcome to bromwell high  i expect that many adults of my age think that bromwell high is far fetched  what a pity that it isn  t    story of a man who has unnatural feelings for a pig  starts out with a opening scene that is a terrific example of absurd comedy  a formal orchestra audience is turned into an insane  violent mob by the crazy chantings of it  s singers  unfortunately it stays absurd the whole time with no general narrative eventually making it just too off putting  even those from the era should be turned off  the cryptic dialogue would make shakespeare seem easy to a third grader  on a technical level it  s better than you might think with some good cinematography by future great vilmos zsigmond  future stars sally kirkland and frederic forrest can be seen briefly    homelessness  or houselessness as george carlin stated  has been an issue for years but never a plan to help those on the street that were once considered human who did everything from going to school  work  or vote for the matter  most people think of the homeless as just a lost cause while worrying about things such as racism  the war on iraq  pressuring kids to succeed  technology  the elections  inflation  or worrying if they  ll be next to end up on the streets   br    br   but what if you were given a bet to live on the st'"
      ]
     },
     "execution_count": 6,
     "metadata": {},
     "output_type": "execute_result"
    }
   ],
   "source": [
    "all_text[:2000]"
   ]
  },
  {
   "cell_type": "code",
   "execution_count": 7,
   "metadata": {
    "collapsed": false,
    "deletable": true,
    "editable": true
   },
   "outputs": [
    {
     "data": {
      "text/plain": [
       "['bromwell',\n",
       " 'high',\n",
       " 'is',\n",
       " 'a',\n",
       " 'cartoon',\n",
       " 'comedy',\n",
       " 'it',\n",
       " 'ran',\n",
       " 'at',\n",
       " 'the',\n",
       " 'same',\n",
       " 'time',\n",
       " 'as',\n",
       " 'some',\n",
       " 'other',\n",
       " 'programs',\n",
       " 'about',\n",
       " 'school',\n",
       " 'life',\n",
       " 'such',\n",
       " 'as',\n",
       " 'teachers',\n",
       " 'my',\n",
       " 'years',\n",
       " 'in',\n",
       " 'the',\n",
       " 'teaching',\n",
       " 'profession',\n",
       " 'lead',\n",
       " 'me',\n",
       " 'to',\n",
       " 'believe',\n",
       " 'that',\n",
       " 'bromwell',\n",
       " 'high',\n",
       " 's',\n",
       " 'satire',\n",
       " 'is',\n",
       " 'much',\n",
       " 'closer',\n",
       " 'to',\n",
       " 'reality',\n",
       " 'than',\n",
       " 'is',\n",
       " 'teachers',\n",
       " 'the',\n",
       " 'scramble',\n",
       " 'to',\n",
       " 'survive',\n",
       " 'financially',\n",
       " 'the',\n",
       " 'insightful',\n",
       " 'students',\n",
       " 'who',\n",
       " 'can',\n",
       " 'see',\n",
       " 'right',\n",
       " 'through',\n",
       " 'their',\n",
       " 'pathetic',\n",
       " 'teachers',\n",
       " 'pomp',\n",
       " 'the',\n",
       " 'pettiness',\n",
       " 'of',\n",
       " 'the',\n",
       " 'whole',\n",
       " 'situation',\n",
       " 'all',\n",
       " 'remind',\n",
       " 'me',\n",
       " 'of',\n",
       " 'the',\n",
       " 'schools',\n",
       " 'i',\n",
       " 'knew',\n",
       " 'and',\n",
       " 'their',\n",
       " 'students',\n",
       " 'when',\n",
       " 'i',\n",
       " 'saw',\n",
       " 'the',\n",
       " 'episode',\n",
       " 'in',\n",
       " 'which',\n",
       " 'a',\n",
       " 'student',\n",
       " 'repeatedly',\n",
       " 'tried',\n",
       " 'to',\n",
       " 'burn',\n",
       " 'down',\n",
       " 'the',\n",
       " 'school',\n",
       " 'i',\n",
       " 'immediately',\n",
       " 'recalled',\n",
       " 'at',\n",
       " 'high']"
      ]
     },
     "execution_count": 7,
     "metadata": {},
     "output_type": "execute_result"
    }
   ],
   "source": [
    "words[:100]"
   ]
  },
  {
   "cell_type": "markdown",
   "metadata": {
    "deletable": true,
    "editable": true
   },
   "source": [
    "### Encoding the words\n",
    "\n",
    "The embedding lookup requires that we pass in integers to our network. The easiest way to do this is to create dictionaries that map the words in the vocabulary to integers. Then we can convert each of our reviews into integers so they can be passed into the network.\n",
    "\n",
    "> **Exercise:** Now you're going to encode the words with integers. Build a dictionary that maps words to integers. Later we're going to pad our input vectors with zeros, so make sure the integers **start at 1, not 0**.\n",
    "> Also, convert the reviews to integers and store the reviews in a new list called `reviews_ints`. "
   ]
  },
  {
   "cell_type": "code",
   "execution_count": 8,
   "metadata": {
    "collapsed": false,
    "deletable": true,
    "editable": true
   },
   "outputs": [
    {
     "name": "stdout",
     "output_type": "stream",
     "text": [
      "[[22337, 308, 6, 3, 1051, 207, 8, 2140, 32, 1, 171, 57, 15, 49, 81, 5795, 44, 382, 110, 140, 15, 5207, 60, 154, 9, 1, 4987, 5854, 475, 71, 5, 260, 12, 22337, 308, 13, 1979, 6, 74, 2402, 5, 614, 73, 6, 5207, 1, 25060, 5, 1989, 10370, 1, 5832, 1504, 36, 51, 66, 204, 145, 67, 1204, 5207, 20407, 1, 46016, 4, 1, 221, 883, 31, 2998, 71, 4, 1, 5793, 10, 687, 2, 67, 1504, 54, 10, 216, 1, 383, 9, 62, 3, 1406, 3694, 783, 5, 3495, 180, 1, 382, 10, 1213, 13614, 32, 308, 3, 349, 341, 2913, 10, 143, 127, 5, 7793, 30, 4, 129, 5207, 1406, 2336, 5, 22337, 308, 10, 528, 12, 109, 1449, 4, 60, 543, 102, 12, 22337, 308, 6, 227, 4165, 48, 3, 2218, 12, 8, 215, 23], [63, 4, 3, 125, 36, 47, 7490, 1398, 16, 3, 4190, 505, 45, 17, 3, 622, 134, 12, 6, 3, 1279, 457, 4, 1721, 207, 3, 10790, 7470, 300, 6, 667, 83, 35, 2119, 1089, 3001, 34, 1, 899, 62005, 4, 8, 13, 5106, 464, 8, 2658, 1721, 1, 221, 57, 17, 58, 794, 1299, 833, 228, 8, 43, 98, 123, 1469, 59, 147, 38, 1, 964, 142, 29, 667, 123, 1, 14027, 410, 61, 95, 1778, 306, 755, 5, 3, 819, 10489, 22, 3, 1726, 636, 8, 13, 128, 73, 21, 233, 102, 17, 49, 50, 618, 34, 684, 85, 31111, 29330, 684, 374, 3349, 11656, 2, 16660, 7972, 51, 29, 108, 3324], [23388, 42, 51984, 15, 706, 17581, 3396, 47, 77, 35, 1821, 16, 154, 19, 114, 3, 1306, 5, 336, 147, 22, 1, 857, 12, 70, 281, 1171, 399, 36, 120, 283, 38, 169, 5, 382, 158, 42, 2274, 16, 1, 541, 90, 78, 102, 4, 1, 3260, 15, 43, 3, 408, 1069, 136, 8153, 44, 182, 140, 15, 3049, 1, 320, 22, 4861, 28343, 346, 5, 3101, 2093, 1, 19459, 18627, 42, 8153, 46, 33, 236, 29, 370, 5, 130, 56, 22, 1, 1928, 7, 7, 19, 48, 46, 21, 70, 345, 3, 2104, 5, 407, 22, 1, 1928, 16, 3, 3126, 205, 1, 29681, 21, 281, 68, 38, 3, 340, 1, 700, 715, 3, 3842, 1230, 22, 1, 1491, 3, 1197, 2, 283, 21, 281, 2437, 5, 66, 48, 8, 13, 39, 5, 29, 3260, 12, 6, 22259, 11798, 13, 2015, 7, 7, 3689, 2819, 36, 4172, 36, 374, 15, 11798, 296, 3, 997, 125, 36, 47, 283, 9, 1, 176, 363, 6979, 5, 95, 3, 2104, 17, 3, 5004, 2947, 14669, 20404, 5, 66, 46, 25, 51, 407, 9, 1, 1928, 16, 3236, 490, 205, 1, 29681, 46, 11798, 2855, 25, 51, 80, 48, 25, 483, 17, 3, 684, 1148, 4, 228, 52, 4468, 1, 2104, 13, 22, 118, 11798, 6, 1347, 22, 1, 857, 17, 3, 19551, 22, 27, 3901, 5, 10357, 27, 175, 829, 118, 25, 51, 23, 1459, 123, 1, 6470, 25, 13, 345, 1, 13738, 31703, 34, 3, 32400, 101, 8, 13, 391, 22, 27, 11888, 118, 11798, 874, 81, 103, 577, 3, 240, 34, 1, 393, 4, 4675, 16592, 1817, 3748, 35, 1199, 3107, 36, 188, 4059, 160, 2286, 41, 340, 2, 41, 8837, 6838, 1988, 4340, 2, 31984, 8853, 2460, 36, 26, 453, 338, 5, 1, 1928, 33, 155, 4235, 11798, 215, 23, 25, 13, 24, 338, 5, 4449, 5921, 29299, 39, 25, 281, 120, 54, 111, 997, 118, 8, 13, 534, 42, 2719, 501, 42, 29, 547, 7, 7, 136, 1, 115, 2003, 198, 4675, 2, 11798, 285, 23, 1645, 5, 112, 10, 254, 110, 4384, 5, 29, 30, 4, 3689, 2819, 16209, 107, 118, 2532, 5, 111, 3, 207, 8, 286, 3, 4220, 488, 1061, 5, 27, 2733, 158, 140, 15, 7486, 11583, 184, 4552, 42, 19269, 16, 1, 541, 5, 121, 48, 8, 13, 39, 255, 141, 4508, 160, 2286, 8, 1, 370, 245, 42, 22, 1, 81, 495, 228, 3, 372, 2104, 39, 31, 997, 78, 80, 54, 33, 89, 23, 122, 48, 5, 80, 17, 67, 273, 277, 33, 142, 200, 8, 5, 1, 3260, 303, 4, 757, 8, 39, 17834, 273, 7, 7, 42, 277, 11, 20, 79, 5888, 21, 5, 336, 401], [4509, 505, 15, 3, 3344, 162, 8441, 1653, 6, 4853, 56, 17, 4508, 5668, 140, 11914, 5, 997, 4942, 2949, 4473, 566, 1201, 36, 6, 1518, 96, 3, 744, 4, 28157, 13, 5, 27, 3470, 9, 10711, 4, 8, 111, 3022, 5, 1, 1028, 15, 3, 4394, 82, 22, 2050, 6, 4473, 538, 2775, 7154, 42874, 41, 463, 1, 8441, 72408, 302, 123, 15, 4239, 19, 1668, 923, 1, 1653, 6, 6159, 21009, 34, 1, 980, 1751, 23030, 646, 25122, 27, 106, 11794, 13, 14402, 15189, 18271, 2460, 466, 21998, 36, 3269, 1, 6449, 1020, 45, 17, 2704, 2499, 33, 1306, 5, 2076, 1, 4508, 11739, 1494, 22, 3, 22049, 1653, 3196, 22, 35, 4344, 1067, 19, 136, 228, 27, 4679, 23030, 217, 1907, 35, 3221, 17223, 9, 1, 4180, 1964, 1110, 4, 1, 1653, 5632, 8, 6569, 83, 1, 1960, 118, 8, 8103, 5, 1, 1303, 204, 4001, 9, 1, 641, 4, 1, 35682, 5853, 17, 923, 9, 342, 6233, 1048, 31733, 9, 255, 15957, 119, 1990, 123, 259, 1, 695, 12094, 16, 1, 4849, 13, 15, 33, 12518, 336, 17, 57, 688, 608, 45, 7, 7, 82, 560, 458, 1, 1056, 271, 32003, 4509, 11, 330, 737, 5, 1, 6752, 557, 1664, 690, 4509, 14, 516, 34, 1435, 9223, 136, 281, 173, 39, 8, 13, 8370, 10, 51, 23, 133, 4509, 6, 100, 428, 4, 1530, 349, 8, 6, 440, 256, 24, 2686, 16, 1, 204, 988, 45, 4, 1, 287, 4509, 107, 10, 28, 108, 37, 227, 10, 165, 419, 11, 30, 1, 117, 43, 8, 47, 60, 1621, 112, 4, 1, 287, 17, 3, 324, 1668, 923, 6159, 32457, 93, 1, 6569, 161, 23, 25, 66, 1, 3221, 17223, 6208, 4, 1, 277, 1, 1154, 70, 264, 5, 1638, 1, 201, 4509, 17, 159, 1043, 1664, 494, 4, 1, 791, 1, 35285, 1115, 19596, 6, 118, 8, 2658, 363, 1, 130, 17, 3, 5291, 6300, 4396, 147, 2582, 982, 343, 41040, 54, 1, 923, 1107, 45, 42, 11048, 15, 1, 25754, 42, 46, 100, 4, 1, 3551, 26, 3022, 8, 13, 3, 531, 322, 12, 97, 28, 91, 16, 3, 85, 116, 1664, 494, 19, 76, 6836, 104, 13, 740, 410, 12115, 265, 1300, 3, 146, 574, 4, 2327, 42, 817, 42, 1055, 801, 11, 6, 3, 1026, 1400, 136, 1, 246, 12817, 112, 918, 30, 2151, 16, 1007, 229, 24, 12, 74, 559, 101, 1, 1653, 8103, 40, 13, 24, 15, 74, 8897, 15, 10, 195, 40, 142, 28, 77, 59, 54, 1, 2926, 409, 562, 182, 89, 23, 1237, 56, 12, 74, 17, 3, 170, 649, 4, 653, 5129, 10784, 1518, 44, 19, 40, 13, 43, 141, 1872, 127, 706, 4022, 15, 1, 45088, 12269, 3458, 865, 38437, 6, 144, 19, 64, 211, 3, 369, 4, 137, 1177, 59, 549, 231, 16675, 5, 43, 167, 3749, 9, 1, 958, 7, 7, 1, 340, 366, 2226, 310, 4, 4509, 507, 229, 136, 1, 178, 242, 2037, 748, 35, 1689, 522, 4, 910, 577, 3, 162, 622, 878, 703, 109, 52, 137, 17, 706, 4022, 15, 38437, 2123, 5, 2082, 45, 104, 13, 1185, 2197, 137, 1, 3780, 42, 159, 369, 4, 339, 2310, 577, 1, 33623, 136, 10, 61, 39, 5, 66, 11, 1689, 910, 10, 239, 24, 249, 10, 97, 848, 145, 3, 733, 287, 522, 584, 4, 4509, 15, 853, 1, 20, 47, 1938, 892, 17, 517, 7921, 7416, 1572, 2800, 10, 79, 133, 58, 52, 81, 73, 1, 2832, 1653, 2121, 298, 696, 23, 85, 343, 364, 17, 1, 81, 106, 4509, 2262, 11, 302, 3079, 4, 269, 9, 1, 10658, 1318, 13, 2280, 4, 880, 256, 10, 51, 102, 4, 761, 4, 429, 107, 73, 11, 37, 10, 10900, 12, 13, 3, 116, 2465, 1, 202, 137, 26, 3, 116, 740, 464, 1, 1040, 6, 539, 24, 74, 2284, 42, 1055, 6, 4829, 62, 6, 3, 880, 15, 10, 10900, 11, 97, 28, 77, 3, 183, 50, 20, 46, 91, 2851, 7, 7, 1, 360, 1205, 26, 2632, 46, 163, 2073, 1, 113, 215, 23, 85, 106, 57, 708, 2191, 669, 3960, 47, 301, 234, 8, 14, 3, 1293, 5, 318, 9, 11, 30, 57, 708, 2191, 566, 1201, 268, 153, 11338, 82, 30, 57, 708, 2191, 743, 1970, 268, 1794, 136, 2642, 1331, 743, 6, 345, 116, 5, 80, 40, 26, 937, 4, 81, 1062, 1564, 5, 167, 45, 16, 98, 7, 7, 4509, 6, 1, 90, 1664, 21040, 4, 1, 287, 4509, 107, 37, 227, 10, 419, 1, 989, 485, 8, 59, 46, 33, 70, 3, 223, 694, 1, 360, 1889, 451, 151, 23, 336, 150, 3, 20, 44, 3, 16077, 1653, 43, 1587, 23, 29, 11, 354, 42, 12115, 1458, 34, 1, 22801, 4509], [520, 119, 113, 34, 16592, 1817, 3748, 117, 885, 21974, 721, 10, 28, 124, 108, 2, 115, 137, 9, 1624, 7713, 26, 330, 5, 589, 1, 6165, 22, 386, 6, 3, 349, 15, 50, 15, 231, 9, 7486, 11583, 1, 191, 22, 9005, 6, 82, 879, 101, 111, 3597, 4, 111, 3, 31405, 3460, 45, 27, 1326, 2, 111, 12626, 1, 2366, 4, 31703, 11798, 24271, 37118, 10, 143, 3, 2366, 25, 549, 287, 164, 697, 4027, 20404, 3, 502, 38, 1, 299, 2648, 6587, 121, 6, 759, 127, 98, 15, 3, 1136, 5124, 36, 483, 5, 4196, 1, 6634, 27, 104, 6, 52, 10566, 73, 630, 1, 1521, 134, 2, 1, 134, 118, 1, 3260, 17573, 3, 14364, 2099, 26, 31, 57, 2183, 167, 16, 1, 2956, 134, 2, 1, 106, 192, 15762, 975, 30, 25821, 11, 18, 211, 128, 253, 57, 10, 66, 8, 62, 6, 179, 397], [11, 20, 3651, 141, 10, 422, 23, 272, 60, 4374, 22, 32, 84, 3302, 22, 1, 172, 4, 1, 952, 506, 11, 4978, 5385, 5, 574, 4, 1155, 54, 53, 5336, 1, 261, 17, 41, 952, 125, 59, 1, 711, 137, 379, 627, 15, 111, 1513, 1, 156, 32, 292, 8, 97, 55, 72, 28, 77, 1, 157, 36, 40644, 48, 25, 871, 38, 1, 156, 10, 43, 89, 23, 122, 7, 7, 19, 97, 8, 28, 77, 1, 861, 43, 605, 36, 14, 1, 8896, 9, 115, 17, 25, 460, 52, 15434, 4, 27, 29251, 1941, 2, 3706, 2, 1092, 4, 309, 2, 27, 6182, 6091, 73, 4, 1703, 42, 231, 326, 25, 114, 2317, 71, 25, 14, 9, 115, 17, 1, 2488, 7, 7, 10, 14, 672, 9, 11, 18, 19, 89, 23, 836, 8, 14, 2275, 16, 35, 708, 37, 1858, 16, 610], [11, 6, 693, 1, 90, 2163, 20, 12005, 1, 2819, 5199, 249, 92, 3008, 8, 126, 24, 200, 3, 803, 634, 4, 23388, 1001, 133, 87, 3537, 3341, 509, 3, 803, 634, 4, 16901, 5106, 42, 2560, 509, 3, 803, 634, 4, 9078, 21, 3721, 109, 4, 1, 623, 787, 1010, 19, 131, 11, 20, 6, 55, 3189, 9, 3, 94, 109, 1259, 26, 24, 2, 5, 1573, 12, 123, 9, 3, 63, 44, 49, 4, 1, 90, 11809, 22584, 1039, 4, 876, 6, 365, 1133, 92, 24, 1, 3452, 607, 19, 92, 24, 582, 343, 60, 64, 3276, 6, 12, 2819, 142, 28, 177, 279, 326, 9, 1, 475, 10, 115, 3689, 15, 3, 157, 2, 533, 24, 37, 74, 15, 3, 475], [786, 295, 10, 122, 11, 6, 418, 5, 29, 35, 482, 20, 19, 1281, 33, 142, 28, 2663, 45, 1840, 32, 1, 2786, 37, 78, 97, 2446, 67, 3965, 45, 2, 24, 105, 256, 1, 134, 1572, 2, 12491, 451, 14, 319, 11, 63, 6, 98, 1321, 5, 105, 1, 3786, 4, 3, 472, 1381, 14, 1739, 1, 64545, 649, 70, 98, 194, 87, 194, 51, 21, 105, 106, 78, 43, 1239, 40, 2, 642, 257, 54, 1, 410, 6, 106, 78, 5263, 10, 65, 68, 3, 250, 57, 43, 390, 145, 11, 20, 1, 351, 70, 319, 19, 87, 74, 4, 12, 454, 15032, 3596, 529, 51, 21, 191, 1, 64, 152, 10, 419, 14, 7074, 14901, 2, 41, 736, 2680, 2, 1074, 134, 881, 11, 14, 3, 7557, 4, 4403, 2, 10, 143, 58, 331, 1311, 27, 343, 10, 102, 251, 36, 549, 33, 499, 620, 4, 11, 6, 72, 3159], [11, 6, 24, 1, 779, 3689, 2819, 20, 8, 14, 74, 325, 2733, 73, 90, 4, 27, 99, 2, 165, 68, 3, 112, 12, 14, 30282, 2791, 1817, 3748, 91, 1, 18, 53, 6, 140, 3, 759, 458, 1124, 506, 40, 70, 49, 381, 12, 97, 28, 77, 6572, 45, 3, 223, 52, 2, 49, 137, 12, 97, 238, 28, 77, 584, 5, 95, 1, 654, 5, 80, 37, 19, 31, 9, 31, 11, 6, 288, 1, 1783, 5, 831, 2, 66, 8, 1, 113, 14, 50, 442, 2819, 309, 120, 3, 50, 289, 205, 27, 7587, 1362, 5, 2521, 5, 1, 300, 173, 3748, 14, 1, 117, 270, 9, 1, 18, 19, 43708, 2, 6838, 197, 252, 67, 521, 72], [54, 10, 14, 116, 60, 798, 552, 71, 364, 5, 1, 730, 5, 66, 8166, 8, 14, 30, 4, 109, 99, 10, 293, 17, 60, 798, 19, 11, 14, 1, 64, 30, 69, 2501, 45, 4, 234, 93, 10, 68, 114, 108, 8166, 363, 43, 1009, 2, 10, 97, 28, 1432, 45, 1, 357, 4, 60, 110, 205, 8, 48, 3, 1930, 10979, 2, 2131, 354, 412, 4, 13, 6665, 2, 2985, 5188, 2125, 1369, 6, 30, 4, 60, 502, 875, 19, 8166, 6, 34, 227, 1, 247, 412, 4, 582, 4, 27, 599, 9, 1, 13994, 395, 4, 14396, 16417, 1369, 403, 178, 3, 454, 21380, 8969, 2612, 9, 5, 1, 450, 4, 3, 212, 11808, 34, 1, 1948, 4014, 2150, 34, 4059, 23465, 599, 115, 685, 115, 61910, 824, 1, 20, 4617, 47, 58, 680, 2114, 58, 224, 2, 6, 14086, 9, 9683, 6818, 11, 20, 395, 51, 29, 117, 4745, 15, 12782, 9, 849, 757, 35, 25962, 4178, 4, 410, 5, 14475, 3, 52, 9976, 1114, 4, 1191, 2, 855, 19, 2125, 1369, 6, 58, 14396, 4403, 1, 20, 6, 2131, 539, 2, 740, 19, 705, 12, 10, 328, 68, 58, 2003, 17, 42, 2474, 16, 100, 4, 1, 103, 303, 10, 416, 64, 5982, 16, 11, 5192, 4, 18485, 6604, 31688, 16269, 29291, 9, 3, 11905, 2650, 16, 2021, 8469, 3, 4104, 4, 22432, 37779, 2, 8090, 41462, 30411, 1, 63, 20774, 39, 3, 7427, 9, 1, 654, 295, 2443, 9, 3848, 16786, 2, 11104, 1073, 198, 11084, 295, 6, 408, 2, 2487, 1644, 5, 168, 451, 42, 1883, 42, 824, 2, 8, 43, 266, 22, 2, 22, 5, 1, 210, 118, 21, 43, 181, 5, 3612, 31, 4, 96, 8, 13, 114, 44, 3437, 8, 13, 64, 44, 9760, 13589, 13281, 8, 6, 163, 52, 73, 3, 1948, 448, 613, 5, 35, 1540, 705, 1, 300, 13, 1229, 5, 3760, 2125, 1369, 2445, 5, 95, 103, 37, 9330, 9, 525, 69, 230, 313, 45, 2, 16, 12, 284, 10, 254, 11, 18, 2131, 524, 5088, 2, 18570, 13705, 10, 66, 48, 25, 14, 169, 16, 19, 27, 13184, 22, 8624, 27, 729, 145, 24448, 15714, 2, 8279, 20, 3330, 35052, 8, 491, 1, 210, 4, 7110, 10, 535, 380, 11, 30, 46, 21, 155, 537, 3, 116, 98, 633, 2, 355, 141, 5, 2998, 21, 4, 333, 881, 278, 13, 43, 3875, 11, 20, 114, 563]]\n"
     ]
    }
   ],
   "source": [
    "from collections import Counter\n",
    "counts = Counter(words)\n",
    "vocab = sorted(counts, key=counts.get, reverse=True)\n",
    "vocab_to_int = {word: ii for ii, word in enumerate(vocab, 1)}\n",
    "\n",
    "reviews_ints = []\n",
    "for each in reviews:\n",
    "    reviews_ints.append([vocab_to_int[word] for word in each.split()])\n",
    "    \n",
    "print(reviews_ints[:10])"
   ]
  },
  {
   "cell_type": "markdown",
   "metadata": {
    "deletable": true,
    "editable": true
   },
   "source": [
    "### Encoding the labels\n",
    "\n",
    "Our labels are \"positive\" or \"negative\". To use these labels in our network, we need to convert them to 0 and 1.\n",
    "\n",
    "> **Exercise:** Convert labels from `positive` and `negative` to 1 and 0, respectively."
   ]
  },
  {
   "cell_type": "code",
   "execution_count": 9,
   "metadata": {
    "collapsed": true,
    "deletable": true,
    "editable": true
   },
   "outputs": [],
   "source": [
    "labels = labels.split('\\n')\n",
    "labels = np.array([1 if each == 'positive' else 0 for each in labels])"
   ]
  },
  {
   "cell_type": "code",
   "execution_count": 10,
   "metadata": {
    "collapsed": false,
    "deletable": true,
    "editable": true
   },
   "outputs": [
    {
     "name": "stdout",
     "output_type": "stream",
     "text": [
      "Zero-length reviews: 1\n",
      "Maximum review length: 2514\n"
     ]
    }
   ],
   "source": [
    "review_lens = Counter([len(x) for x in reviews_ints])\n",
    "print(\"Zero-length reviews: {}\".format(review_lens[0]))\n",
    "print(\"Maximum review length: {}\".format(max(review_lens)))"
   ]
  },
  {
   "cell_type": "markdown",
   "metadata": {
    "deletable": true,
    "editable": true
   },
   "source": [
    "Okay, a couple issues here. We seem to have one review with zero length. And, the maximum review length is way too many steps for our RNN. Let's truncate to 200 steps. For reviews shorter than 200, we'll pad with 0s. For reviews longer than 200, we can truncate them to the first 200 characters.\n",
    "\n",
    "> **Exercise:** First, remove the review with zero length from the `reviews_ints` list."
   ]
  },
  {
   "cell_type": "code",
   "execution_count": 11,
   "metadata": {
    "collapsed": false,
    "deletable": true,
    "editable": true
   },
   "outputs": [
    {
     "data": {
      "text/plain": [
       "25000"
      ]
     },
     "execution_count": 11,
     "metadata": {},
     "output_type": "execute_result"
    }
   ],
   "source": [
    "non_zero_idx = [ii for ii, review in enumerate(reviews_ints) if len(review) != 0]\n",
    "len(non_zero_idx)"
   ]
  },
  {
   "cell_type": "code",
   "execution_count": 12,
   "metadata": {
    "collapsed": false,
    "deletable": true,
    "editable": true
   },
   "outputs": [
    {
     "data": {
      "text/plain": [
       "[]"
      ]
     },
     "execution_count": 12,
     "metadata": {},
     "output_type": "execute_result"
    }
   ],
   "source": [
    "reviews_ints[-1]"
   ]
  },
  {
   "cell_type": "markdown",
   "metadata": {
    "deletable": true,
    "editable": true
   },
   "source": [
    "Turns out its the final review that has zero length. But that might not always be the case, so let's make it more general."
   ]
  },
  {
   "cell_type": "code",
   "execution_count": 13,
   "metadata": {
    "collapsed": true,
    "deletable": true,
    "editable": true
   },
   "outputs": [],
   "source": [
    "reviews_ints = [reviews_ints[ii] for ii in non_zero_idx]\n",
    "labels = np.array([labels[ii] for ii in non_zero_idx])"
   ]
  },
  {
   "cell_type": "markdown",
   "metadata": {
    "deletable": true,
    "editable": true
   },
   "source": [
    "> **Exercise:** Now, create an array `features` that contains the data we'll pass to the network. The data should come from `review_ints`, since we want to feed integers to the network. Each row should be 200 elements long. For reviews shorter than 200 words, left pad with 0s. That is, if the review is `['best', 'movie', 'ever']`, `[117, 18, 128]` as integers, the row will look like `[0, 0, 0, ..., 0, 117, 18, 128]`. For reviews longer than 200, use on the first 200 words as the feature vector.\n",
    "\n",
    "This isn't trivial and there are a bunch of ways to do this. But, if you're going to be building your own deep learning networks, you're going to have to get used to preparing your data.\n",
    "\n"
   ]
  },
  {
   "cell_type": "code",
   "execution_count": 14,
   "metadata": {
    "collapsed": true,
    "deletable": true,
    "editable": true
   },
   "outputs": [],
   "source": [
    "seq_len = 200\n",
    "features = np.zeros((len(reviews_ints), seq_len), dtype=int)\n",
    "for i, row in enumerate(reviews_ints):\n",
    "    features[i, -len(row):] = np.array(row)[:seq_len]"
   ]
  },
  {
   "cell_type": "code",
   "execution_count": 15,
   "metadata": {
    "collapsed": false,
    "deletable": true,
    "editable": true
   },
   "outputs": [
    {
     "data": {
      "text/plain": [
       "array([[    0,     0,     0,     0,     0,     0,     0,     0,     0,\n",
       "            0,     0,     0,     0,     0,     0,     0,     0,     0,\n",
       "            0,     0,     0,     0,     0,     0,     0,     0,     0,\n",
       "            0,     0,     0,     0,     0,     0,     0,     0,     0,\n",
       "            0,     0,     0,     0,     0,     0,     0,     0,     0,\n",
       "            0,     0,     0,     0,     0,     0,     0,     0,     0,\n",
       "            0,     0,     0,     0,     0,     0, 22337,   308,     6,\n",
       "            3,  1051,   207,     8,  2140,    32,     1,   171,    57,\n",
       "           15,    49,    81,  5795,    44,   382,   110,   140,    15,\n",
       "         5207,    60,   154,     9,     1,  4987,  5854,   475,    71,\n",
       "            5,   260,    12, 22337,   308,    13,  1979,     6,    74,\n",
       "         2402],\n",
       "       [    0,     0,     0,     0,     0,     0,     0,     0,     0,\n",
       "            0,     0,     0,     0,     0,     0,     0,     0,     0,\n",
       "            0,     0,     0,     0,     0,     0,     0,     0,     0,\n",
       "            0,     0,     0,     0,     0,     0,     0,     0,     0,\n",
       "            0,     0,     0,     0,     0,     0,     0,     0,     0,\n",
       "            0,     0,     0,     0,     0,     0,     0,     0,     0,\n",
       "            0,     0,     0,     0,     0,     0,     0,     0,     0,\n",
       "            0,     0,     0,     0,     0,     0,     0,     0,     0,\n",
       "            0,     0,     0,     0,     0,     0,     0,     0,     0,\n",
       "            0,     0,     0,     0,     0,    63,     4,     3,   125,\n",
       "           36,    47,  7490,  1398,    16,     3,  4190,   505,    45,\n",
       "           17],\n",
       "       [23388,    42, 51984,    15,   706, 17581,  3396,    47,    77,\n",
       "           35,  1821,    16,   154,    19,   114,     3,  1306,     5,\n",
       "          336,   147,    22,     1,   857,    12,    70,   281,  1171,\n",
       "          399,    36,   120,   283,    38,   169,     5,   382,   158,\n",
       "           42,  2274,    16,     1,   541,    90,    78,   102,     4,\n",
       "            1,  3260,    15,    43,     3,   408,  1069,   136,  8153,\n",
       "           44,   182,   140,    15,  3049,     1,   320,    22,  4861,\n",
       "        28343,   346,     5,  3101,  2093,     1, 19459, 18627,    42,\n",
       "         8153,    46,    33,   236,    29,   370,     5,   130,    56,\n",
       "           22,     1,  1928,     7,     7,    19,    48,    46,    21,\n",
       "           70,   345,     3,  2104,     5,   407,    22,     1,  1928,\n",
       "           16],\n",
       "       [ 4509,   505,    15,     3,  3344,   162,  8441,  1653,     6,\n",
       "         4853,    56,    17,  4508,  5668,   140, 11914,     5,   997,\n",
       "         4942,  2949,  4473,   566,  1201,    36,     6,  1518,    96,\n",
       "            3,   744,     4, 28157,    13,     5,    27,  3470,     9,\n",
       "        10711,     4,     8,   111,  3022,     5,     1,  1028,    15,\n",
       "            3,  4394,    82,    22,  2050,     6,  4473,   538,  2775,\n",
       "         7154, 42874,    41,   463,     1,  8441, 72408,   302,   123,\n",
       "           15,  4239,    19,  1668,   923,     1,  1653,     6,  6159,\n",
       "        21009,    34,     1,   980,  1751, 23030,   646, 25122,    27,\n",
       "          106, 11794,    13, 14402, 15189, 18271,  2460,   466, 21998,\n",
       "           36,  3269,     1,  6449,  1020,    45,    17,  2704,  2499,\n",
       "           33],\n",
       "       [    0,     0,     0,     0,     0,     0,     0,     0,     0,\n",
       "            0,     0,     0,     0,     0,     0,     0,     0,     0,\n",
       "            0,     0,     0,     0,     0,     0,     0,     0,     0,\n",
       "            0,     0,     0,     0,     0,     0,     0,     0,     0,\n",
       "            0,     0,     0,     0,     0,     0,     0,     0,     0,\n",
       "            0,     0,     0,     0,     0,   520,   119,   113,    34,\n",
       "        16592,  1817,  3748,   117,   885, 21974,   721,    10,    28,\n",
       "          124,   108,     2,   115,   137,     9,  1624,  7713,    26,\n",
       "          330,     5,   589,     1,  6165,    22,   386,     6,     3,\n",
       "          349,    15,    50,    15,   231,     9,  7486, 11583,     1,\n",
       "          191,    22,  9005,     6,    82,   879,   101,   111,  3597,\n",
       "            4],\n",
       "       [    0,     0,     0,     0,     0,     0,     0,     0,     0,\n",
       "            0,     0,     0,     0,     0,     0,     0,     0,     0,\n",
       "            0,     0,     0,     0,     0,     0,     0,     0,     0,\n",
       "            0,     0,     0,     0,     0,     0,     0,     0,     0,\n",
       "            0,     0,     0,     0,     0,     0,     0,     0,     0,\n",
       "            0,     0,     0,     0,     0,     0,     0,     0,     0,\n",
       "           11,    20,  3651,   141,    10,   422,    23,   272,    60,\n",
       "         4374,    22,    32,    84,  3302,    22,     1,   172,     4,\n",
       "            1,   952,   506,    11,  4978,  5385,     5,   574,     4,\n",
       "         1155,    54,    53,  5336,     1,   261,    17,    41,   952,\n",
       "          125,    59,     1,   711,   137,   379,   627,    15,   111,\n",
       "         1513],\n",
       "       [    0,     0,     0,     0,     0,     0,     0,     0,     0,\n",
       "            0,     0,     0,     0,     0,     0,     0,     0,     0,\n",
       "            0,     0,     0,     0,     0,     0,     0,     0,     0,\n",
       "            0,     0,     0,     0,     0,     0,     0,     0,     0,\n",
       "            0,     0,     0,     0,     0,     0,     0,     0,     0,\n",
       "            0,     0,     0,     0,     0,     0,     0,     0,     0,\n",
       "            0,     0,     0,     0,     0,     0,     0,     0,     0,\n",
       "            0,     0,     0,     0,     0,     0,     0,     0,     0,\n",
       "            0,     0,     0,     0,    11,     6,   693,     1,    90,\n",
       "         2163,    20, 12005,     1,  2819,  5199,   249,    92,  3008,\n",
       "            8,   126,    24,   200,     3,   803,   634,     4, 23388,\n",
       "         1001],\n",
       "       [    0,     0,     0,     0,     0,     0,     0,     0,     0,\n",
       "            0,     0,     0,     0,     0,     0,     0,     0,     0,\n",
       "            0,     0,     0,     0,     0,     0,     0,     0,     0,\n",
       "            0,     0,     0,     0,     0,     0,     0,     0,     0,\n",
       "            0,     0,     0,     0,     0,     0,     0,     0,     0,\n",
       "            0,     0,   786,   295,    10,   122,    11,     6,   418,\n",
       "            5,    29,    35,   482,    20,    19,  1281,    33,   142,\n",
       "           28,  2663,    45,  1840,    32,     1,  2786,    37,    78,\n",
       "           97,  2446,    67,  3965,    45,     2,    24,   105,   256,\n",
       "            1,   134,  1572,     2, 12491,   451,    14,   319,    11,\n",
       "           63,     6,    98,  1321,     5,   105,     1,  3786,     4,\n",
       "            3],\n",
       "       [    0,     0,     0,     0,     0,     0,     0,     0,     0,\n",
       "            0,     0,     0,     0,     0,     0,     0,     0,     0,\n",
       "            0,     0,     0,     0,     0,     0,     0,     0,     0,\n",
       "            0,     0,     0,     0,     0,     0,     0,     0,     0,\n",
       "            0,     0,     0,     0,     0,     0,     0,     0,     0,\n",
       "            0,     0,     0,     0,     0,     0,     0,     0,     0,\n",
       "            0,     0,     0,     0,     0,     0,     0,     0,     0,\n",
       "            0,     0,     0,     0,     0,     0,     0,     0,     0,\n",
       "            0,     0,     0,     0,     0,     0,     0,    11,     6,\n",
       "           24,     1,   779,  3689,  2819,    20,     8,    14,    74,\n",
       "          325,  2733,    73,    90,     4,    27,    99,     2,   165,\n",
       "           68],\n",
       "       [   54,    10,    14,   116,    60,   798,   552,    71,   364,\n",
       "            5,     1,   730,     5,    66,  8166,     8,    14,    30,\n",
       "            4,   109,    99,    10,   293,    17,    60,   798,    19,\n",
       "           11,    14,     1,    64,    30,    69,  2501,    45,     4,\n",
       "          234,    93,    10,    68,   114,   108,  8166,   363,    43,\n",
       "         1009,     2,    10,    97,    28,  1432,    45,     1,   357,\n",
       "            4,    60,   110,   205,     8,    48,     3,  1930, 10979,\n",
       "            2,  2131,   354,   412,     4,    13,  6665,     2,  2985,\n",
       "         5188,  2125,  1369,     6,    30,     4,    60,   502,   875,\n",
       "           19,  8166,     6,    34,   227,     1,   247,   412,     4,\n",
       "          582,     4,    27,   599,     9,     1, 13994,   395,     4,\n",
       "        14396]])"
      ]
     },
     "execution_count": 15,
     "metadata": {},
     "output_type": "execute_result"
    }
   ],
   "source": [
    "features[:10,:100]"
   ]
  },
  {
   "cell_type": "markdown",
   "metadata": {
    "deletable": true,
    "editable": true
   },
   "source": [
    "## Training, Validation, Test\n",
    "\n"
   ]
  },
  {
   "cell_type": "markdown",
   "metadata": {
    "deletable": true,
    "editable": true
   },
   "source": [
    "With our data in nice shape, we'll split it into training, validation, and test sets.\n",
    "\n",
    "> **Exercise:** Create the training, validation, and test sets here. You'll need to create sets for the features and the labels, `train_x` and `train_y` for example. Define a split fraction, `split_frac` as the fraction of data to keep in the training set. Usually this is set to 0.8 or 0.9. The rest of the data will be split in half to create the validation and testing data."
   ]
  },
  {
   "cell_type": "code",
   "execution_count": 16,
   "metadata": {
    "collapsed": false,
    "deletable": true,
    "editable": true
   },
   "outputs": [
    {
     "name": "stdout",
     "output_type": "stream",
     "text": [
      "\t\t\tFeature Shapes:\n",
      "Train set: \t\t(20000, 200) \n",
      "Validation set: \t(2500, 200) \n",
      "Test set: \t\t(2500, 200)\n"
     ]
    }
   ],
   "source": [
    "split_frac = 0.8\n",
    "split_idx = int(len(features)*0.8)\n",
    "train_x, val_x = features[:split_idx], features[split_idx:]\n",
    "train_y, val_y = labels[:split_idx], labels[split_idx:]\n",
    "\n",
    "test_idx = int(len(val_x)*0.5)\n",
    "val_x, test_x = val_x[:test_idx], val_x[test_idx:]\n",
    "val_y, test_y = val_y[:test_idx], val_y[test_idx:]\n",
    "\n",
    "print(\"\\t\\t\\tFeature Shapes:\")\n",
    "print(\"Train set: \\t\\t{}\".format(train_x.shape), \n",
    "      \"\\nValidation set: \\t{}\".format(val_x.shape),\n",
    "      \"\\nTest set: \\t\\t{}\".format(test_x.shape))"
   ]
  },
  {
   "cell_type": "markdown",
   "metadata": {
    "deletable": true,
    "editable": true
   },
   "source": [
    "With train, validation, and text fractions of 0.8, 0.1, 0.1, the final shapes should look like:\n",
    "```\n",
    "                    Feature Shapes:\n",
    "Train set: \t\t (20000, 200) \n",
    "Validation set: \t(2500, 200) \n",
    "Test set: \t\t  (2500, 200)\n",
    "```"
   ]
  },
  {
   "cell_type": "markdown",
   "metadata": {
    "deletable": true,
    "editable": true
   },
   "source": [
    "## Build the graph\n",
    "\n",
    "Here, we'll build the graph. First up, defining the hyperparameters.\n",
    "\n",
    "* `lstm_size`: Number of units in the hidden layers in the LSTM cells. Usually larger is better performance wise. Common values are 128, 256, 512, etc.\n",
    "* `lstm_layers`: Number of LSTM layers in the network. I'd start with 1, then add more if I'm underfitting.\n",
    "* `batch_size`: The number of reviews to feed the network in one training pass. Typically this should be set as high as you can go without running out of memory.\n",
    "* `learning_rate`: Learning rate"
   ]
  },
  {
   "cell_type": "code",
   "execution_count": 17,
   "metadata": {
    "collapsed": true,
    "deletable": true,
    "editable": true
   },
   "outputs": [],
   "source": [
    "lstm_size = 256\n",
    "lstm_layers = 1\n",
    "batch_size = 500\n",
    "learning_rate = 0.001"
   ]
  },
  {
   "cell_type": "markdown",
   "metadata": {
    "deletable": true,
    "editable": true
   },
   "source": [
    "For the network itself, we'll be passing in our 200 element long review vectors. Each batch will be `batch_size` vectors. We'll also be using dropout on the LSTM layer, so we'll make a placeholder for the keep probability."
   ]
  },
  {
   "cell_type": "markdown",
   "metadata": {
    "deletable": true,
    "editable": true
   },
   "source": [
    "> **Exercise:** Create the `inputs_`, `labels_`, and drop out `keep_prob` placeholders using `tf.placeholder`. `labels_` needs to be two-dimensional to work with some functions later.  Since `keep_prob` is a scalar (a 0-dimensional tensor), you shouldn't provide a size to `tf.placeholder`."
   ]
  },
  {
   "cell_type": "code",
   "execution_count": 18,
   "metadata": {
    "collapsed": true,
    "deletable": true,
    "editable": true
   },
   "outputs": [],
   "source": [
    "n_words = len(vocab_to_int) + 1 # Adding 1 because we use 0's for padding, dictionary started at 1\n",
    "\n",
    "# Create the graph object\n",
    "graph = tf.Graph()\n",
    "# Add nodes to the graph\n",
    "with graph.as_default():\n",
    "    inputs_ = tf.placeholder(tf.int32, [None, None], name='inputs')\n",
    "    labels_ = tf.placeholder(tf.int32, [None, None], name='labels')\n",
    "    keep_prob = tf.placeholder(tf.float32, name='keep_prob')"
   ]
  },
  {
   "cell_type": "markdown",
   "metadata": {
    "deletable": true,
    "editable": true
   },
   "source": [
    "### Embedding\n",
    "\n",
    "Now we'll add an embedding layer. We need to do this because there are 74000 words in our vocabulary. It is massively inefficient to one-hot encode our classes here. You should remember dealing with this problem from the word2vec lesson. Instead of one-hot encoding, we can have an embedding layer and use that layer as a lookup table. You could train an embedding layer using word2vec, then load it here. But, it's fine to just make a new layer and let the network learn the weights.\n",
    "\n",
    "> **Exercise:** Create the embedding lookup matrix as a `tf.Variable`. Use that embedding matrix to get the embedded vectors to pass to the LSTM cell with [`tf.nn.embedding_lookup`](https://www.tensorflow.org/api_docs/python/tf/nn/embedding_lookup). This function takes the embedding matrix and an input tensor, such as the review vectors. Then, it'll return another tensor with the embedded vectors. So, if the embedding layer as 200 units, the function will return a tensor with size [batch_size, 200].\n",
    "\n"
   ]
  },
  {
   "cell_type": "code",
   "execution_count": 19,
   "metadata": {
    "collapsed": true,
    "deletable": true,
    "editable": true
   },
   "outputs": [],
   "source": [
    "# Size of the embedding vectors (number of units in the embedding layer)\n",
    "embed_size = 300 \n",
    "\n",
    "with graph.as_default():\n",
    "    embedding = tf.Variable(tf.random_uniform((n_words, embed_size), -1, 1))\n",
    "    embed = tf.nn.embedding_lookup(embedding, inputs_)"
   ]
  },
  {
   "cell_type": "markdown",
   "metadata": {
    "deletable": true,
    "editable": true
   },
   "source": [
    "### LSTM cell\n",
    "\n",
    "<img src=\"assets/network_diagram.png\" width=400px>\n",
    "\n",
    "Next, we'll create our LSTM cells to use in the recurrent network ([TensorFlow documentation](https://www.tensorflow.org/api_docs/python/tf/contrib/rnn)). Here we are just defining what the cells look like. This isn't actually building the graph, just defining the type of cells we want in our graph.\n",
    "\n",
    "To create a basic LSTM cell for the graph, you'll want to use `tf.contrib.rnn.BasicLSTMCell`. Looking at the function documentation:\n",
    "\n",
    "```\n",
    "tf.contrib.rnn.BasicLSTMCell(num_units, forget_bias=1.0, input_size=None, state_is_tuple=True, activation=<function tanh at 0x109f1ef28>)\n",
    "```\n",
    "\n",
    "you can see it takes a parameter called `num_units`, the number of units in the cell, called `lstm_size` in this code. So then, you can write something like \n",
    "\n",
    "```\n",
    "lstm = tf.contrib.rnn.BasicLSTMCell(num_units)\n",
    "```\n",
    "\n",
    "to create an LSTM cell with `num_units`. Next, you can add dropout to the cell with `tf.contrib.rnn.DropoutWrapper`. This just wraps the cell in another cell, but with dropout added to the inputs and/or outputs. It's a really convenient way to make your network better with almost no effort! So you'd do something like\n",
    "\n",
    "```\n",
    "drop = tf.contrib.rnn.DropoutWrapper(cell, output_keep_prob=keep_prob)\n",
    "```\n",
    "\n",
    "Most of the time, you're network will have better performance with more layers. That's sort of the magic of deep learning, adding more layers allows the network to learn really complex relationships. Again, there is a simple way to create multiple layers of LSTM cells with `tf.contrib.rnn.MultiRNNCell`:\n",
    "\n",
    "```\n",
    "cell = tf.contrib.rnn.MultiRNNCell([drop] * lstm_layers)\n",
    "```\n",
    "\n",
    "Here, `[drop] * lstm_layers` creates a list of cells (`drop`) that is `lstm_layers` long. The `MultiRNNCell` wrapper builds this into multiple layers of RNN cells, one for each cell in the list.\n",
    "\n",
    "So the final cell you're using in the network is actually multiple (or just one) LSTM cells with dropout. But it all works the same from an architectural viewpoint, just a more complicated graph in the cell.\n",
    "\n",
    "> **Exercise:** Below, use `tf.contrib.rnn.BasicLSTMCell` to create an LSTM cell. Then, add drop out to it with `tf.contrib.rnn.DropoutWrapper`. Finally, create multiple LSTM layers with `tf.contrib.rnn.MultiRNNCell`.\n",
    "\n",
    "Here is [a tutorial on building RNNs](https://www.tensorflow.org/tutorials/recurrent) that will help you out.\n"
   ]
  },
  {
   "cell_type": "code",
   "execution_count": 20,
   "metadata": {
    "collapsed": true,
    "deletable": true,
    "editable": true
   },
   "outputs": [],
   "source": [
    "with graph.as_default():\n",
    "    # Your basic LSTM cell\n",
    "    lstm = tf.contrib.rnn.BasicLSTMCell(lstm_size)\n",
    "    \n",
    "    # Add dropout to the cell\n",
    "    drop = tf.contrib.rnn.DropoutWrapper(lstm, output_keep_prob=keep_prob)\n",
    "    \n",
    "    # Stack up multiple LSTM layers, for deep learning\n",
    "    cell = tf.contrib.rnn.MultiRNNCell([drop] * lstm_layers)\n",
    "    \n",
    "    # Getting an initial state of all zeros\n",
    "    initial_state = cell.zero_state(batch_size, tf.float32)"
   ]
  },
  {
   "cell_type": "markdown",
   "metadata": {
    "deletable": true,
    "editable": true
   },
   "source": [
    "### RNN forward pass\n",
    "\n",
    "<img src=\"assets/network_diagram.png\" width=400px>\n",
    "\n",
    "Now we need to actually run the data through the RNN nodes. You can use [`tf.nn.dynamic_rnn`](https://www.tensorflow.org/api_docs/python/tf/nn/dynamic_rnn) to do this. You'd pass in the RNN cell you created (our multiple layered LSTM `cell` for instance), and the inputs to the network.\n",
    "\n",
    "```\n",
    "outputs, final_state = tf.nn.dynamic_rnn(cell, inputs, initial_state=initial_state)\n",
    "```\n",
    "\n",
    "Above I created an initial state, `initial_state`, to pass to the RNN. This is the cell state that is passed between the hidden layers in successive time steps. `tf.nn.dynamic_rnn` takes care of most of the work for us. We pass in our cell and the input to the cell, then it does the unrolling and everything else for us. It returns outputs for each time step and the final_state of the hidden layer.\n",
    "\n",
    "> **Exercise:** Use `tf.nn.dynamic_rnn` to add the forward pass through the RNN. Remember that we're actually passing in vectors from the embedding layer, `embed`.\n",
    "\n"
   ]
  },
  {
   "cell_type": "code",
   "execution_count": 21,
   "metadata": {
    "collapsed": true,
    "deletable": true,
    "editable": true
   },
   "outputs": [],
   "source": [
    "with graph.as_default():\n",
    "    outputs, final_state = tf.nn.dynamic_rnn(cell, embed,\n",
    "                                             initial_state=initial_state)"
   ]
  },
  {
   "cell_type": "markdown",
   "metadata": {
    "deletable": true,
    "editable": true
   },
   "source": [
    "### Output\n",
    "\n",
    "We only care about the final output, we'll be using that as our sentiment prediction. So we need to grab the last output with `outputs[:, -1]`, the calculate the cost from that and `labels_`."
   ]
  },
  {
   "cell_type": "code",
   "execution_count": 22,
   "metadata": {
    "collapsed": true,
    "deletable": true,
    "editable": true
   },
   "outputs": [],
   "source": [
    "with graph.as_default():\n",
    "    predictions = tf.contrib.layers.fully_connected(outputs[:, -1], 1, activation_fn=tf.sigmoid)\n",
    "    cost = tf.losses.mean_squared_error(labels_, predictions)\n",
    "    \n",
    "    optimizer = tf.train.AdamOptimizer(learning_rate).minimize(cost)"
   ]
  },
  {
   "cell_type": "markdown",
   "metadata": {
    "deletable": true,
    "editable": true
   },
   "source": [
    "### Validation accuracy\n",
    "\n",
    "Here we can add a few nodes to calculate the accuracy which we'll use in the validation pass."
   ]
  },
  {
   "cell_type": "code",
   "execution_count": 23,
   "metadata": {
    "collapsed": true,
    "deletable": true,
    "editable": true
   },
   "outputs": [],
   "source": [
    "with graph.as_default():\n",
    "    correct_pred = tf.equal(tf.cast(tf.round(predictions), tf.int32), labels_)\n",
    "    accuracy = tf.reduce_mean(tf.cast(correct_pred, tf.float32))"
   ]
  },
  {
   "cell_type": "markdown",
   "metadata": {
    "deletable": true,
    "editable": true
   },
   "source": [
    "### Batching\n",
    "\n",
    "This is a simple function for returning batches from our data. First it removes data such that we only have full batches. Then it iterates through the `x` and `y` arrays and returns slices out of those arrays with size `[batch_size]`."
   ]
  },
  {
   "cell_type": "code",
   "execution_count": null,
   "metadata": {
    "collapsed": true,
    "deletable": true,
    "editable": true
   },
   "outputs": [],
   "source": [
    "def get_batches(x, y, batch_size=100):\n",
    "    \n",
    "    n_batches = len(x)//batch_size\n",
    "    x, y = x[:n_batches*batch_size], y[:n_batches*batch_size]\n",
    "    for ii in range(0, len(x), batch_size):\n",
    "        yield x[ii:ii+batch_size], y[ii:ii+batch_size]"
   ]
  },
  {
   "cell_type": "markdown",
   "metadata": {
    "deletable": true,
    "editable": true
   },
   "source": [
    "## Training\n",
    "\n",
    "Below is the typical training code. If you want to do this yourself, feel free to delete all this code and implement it yourself. Before you run this, make sure the `checkpoints` directory exists."
   ]
  },
  {
   "cell_type": "code",
   "execution_count": null,
   "metadata": {
    "collapsed": false,
    "deletable": true,
    "editable": true
   },
   "outputs": [
    {
     "name": "stdout",
     "output_type": "stream",
     "text": [
      "Epoch: 0/10 Iteration: 5 Train loss: 0.244\n"
     ]
    }
   ],
   "source": [
    "epochs = 10\n",
    "\n",
    "with graph.as_default():\n",
    "    saver = tf.train.Saver()\n",
    "\n",
    "with tf.Session(graph=graph) as sess:\n",
    "    sess.run(tf.global_variables_initializer())\n",
    "    iteration = 1\n",
    "    for e in range(epochs):\n",
    "        state = sess.run(initial_state)\n",
    "        \n",
    "        for ii, (x, y) in enumerate(get_batches(train_x, train_y, batch_size), 1):\n",
    "            feed = {inputs_: x,\n",
    "                    labels_: y[:, None],\n",
    "                    keep_prob: 0.5,\n",
    "                    initial_state: state}\n",
    "            loss, state, _ = sess.run([cost, final_state, optimizer], feed_dict=feed)\n",
    "            \n",
    "            if iteration%5==0:\n",
    "                print(\"Epoch: {}/{}\".format(e, epochs),\n",
    "                      \"Iteration: {}\".format(iteration),\n",
    "                      \"Train loss: {:.3f}\".format(loss))\n",
    "\n",
    "            if iteration%25==0:\n",
    "                val_acc = []\n",
    "                val_state = sess.run(cell.zero_state(batch_size, tf.float32))\n",
    "                for x, y in get_batches(val_x, val_y, batch_size):\n",
    "                    feed = {inputs_: x,\n",
    "                            labels_: y[:, None],\n",
    "                            keep_prob: 1,\n",
    "                            initial_state: val_state}\n",
    "                    batch_acc, val_state = sess.run([accuracy, final_state], feed_dict=feed)\n",
    "                    val_acc.append(batch_acc)\n",
    "                print(\"Val acc: {:.3f}\".format(np.mean(val_acc)))\n",
    "            iteration +=1\n",
    "    saver.save(sess, \"checkpoints/sentiment.ckpt\")"
   ]
  },
  {
   "cell_type": "markdown",
   "metadata": {
    "deletable": true,
    "editable": true
   },
   "source": [
    "## Testing"
   ]
  },
  {
   "cell_type": "code",
   "execution_count": null,
   "metadata": {
    "collapsed": false,
    "deletable": true,
    "editable": true
   },
   "outputs": [],
   "source": [
    "test_acc = []\n",
    "with tf.Session(graph=graph) as sess:\n",
    "    saver.restore(sess, tf.train.latest_checkpoint('checkpoints'))\n",
    "    test_state = sess.run(cell.zero_state(batch_size, tf.float32))\n",
    "    for ii, (x, y) in enumerate(get_batches(test_x, test_y, batch_size), 1):\n",
    "        feed = {inputs_: x,\n",
    "                labels_: y[:, None],\n",
    "                keep_prob: 1,\n",
    "                initial_state: test_state}\n",
    "        batch_acc, test_state = sess.run([accuracy, final_state], feed_dict=feed)\n",
    "        test_acc.append(batch_acc)\n",
    "    print(\"Test accuracy: {:.3f}\".format(np.mean(test_acc)))"
   ]
  }
 ],
 "metadata": {
  "kernelspec": {
   "display_name": "Python 3",
   "language": "python",
   "name": "python3"
  },
  "language_info": {
   "codemirror_mode": {
    "name": "ipython",
    "version": 3
   },
   "file_extension": ".py",
   "mimetype": "text/x-python",
   "name": "python",
   "nbconvert_exporter": "python",
   "pygments_lexer": "ipython3",
   "version": "3.5.3"
  }
 },
 "nbformat": 4,
 "nbformat_minor": 2
}
