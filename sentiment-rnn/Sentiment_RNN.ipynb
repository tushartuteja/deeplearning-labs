{
 "cells": [
  {
   "cell_type": "markdown",
   "metadata": {
    "deletable": true,
    "editable": true
   },
   "source": [
    "# Sentiment Analysis with an RNN\n",
    "\n",
    "In this notebook, you'll implement a recurrent neural network that performs sentiment analysis. Using an RNN rather than a feedfoward network is more accurate since we can include information about the *sequence* of words. Here we'll use a dataset of movie reviews, accompanied by labels.\n",
    "\n",
    "The architecture for this network is shown below.\n",
    "\n",
    "<img src=\"assets/network_diagram.png\" width=400px>\n",
    "\n",
    "Here, we'll pass in words to an embedding layer. We need an embedding layer because we have tens of thousands of words, so we'll need a more efficient representation for our input data than one-hot encoded vectors. You should have seen this before from the word2vec lesson. You can actually train up an embedding with word2vec and use it here. But it's good enough to just have an embedding layer and let the network learn the embedding table on it's own.\n",
    "\n",
    "From the embedding layer, the new representations will be passed to LSTM cells. These will add recurrent connections to the network so we can include information about the sequence of words in the data. Finally, the LSTM cells will go to a sigmoid output layer here. We're using the sigmoid because we're trying to predict if this text has positive or negative sentiment. The output layer will just be a single unit then, with a sigmoid activation function.\n",
    "\n",
    "We don't care about the sigmoid outputs except for the very last one, we can ignore the rest. We'll calculate the cost from the output of the last step and the training label."
   ]
  },
  {
   "cell_type": "code",
   "execution_count": 38,
   "metadata": {
    "collapsed": true,
    "deletable": true,
    "editable": true
   },
   "outputs": [],
   "source": [
    "import numpy as np\n",
    "import tensorflow as tf"
   ]
  },
  {
   "cell_type": "code",
   "execution_count": 39,
   "metadata": {
    "collapsed": true,
    "deletable": true,
    "editable": true
   },
   "outputs": [],
   "source": [
    "with open('../sentiment-network/reviews.txt', 'r') as f:\n",
    "    reviews = f.read()\n",
    "with open('../sentiment-network/labels.txt', 'r') as f:\n",
    "    labels = f.read()"
   ]
  },
  {
   "cell_type": "code",
   "execution_count": 40,
   "metadata": {
    "collapsed": false,
    "deletable": true,
    "editable": true
   },
   "outputs": [
    {
     "data": {
      "text/plain": [
       "'bromwell high is a cartoon comedy . it ran at the same time as some other programs about school life  such as  teachers  . my   years in the teaching profession lead me to believe that bromwell high  s satire is much closer to reality than is  teachers  . the scramble to survive financially  the insightful students who can see right through their pathetic teachers  pomp  the pettiness of the whole situation  all remind me of the schools i knew and their students . when i saw the episode in which a student repeatedly tried to burn down the school  i immediately recalled . . . . . . . . . at . . . . . . . . . . high . a classic line inspector i  m here to sack one of your teachers . student welcome to bromwell high . i expect that many adults of my age think that bromwell high is far fetched . what a pity that it isn  t   \\nstory of a man who has unnatural feelings for a pig . starts out with a opening scene that is a terrific example of absurd comedy . a formal orchestra audience is turned into an insane  violent mob by the crazy chantings of it  s singers . unfortunately it stays absurd the whole time with no general narrative eventually making it just too off putting . even those from the era should be turned off . the cryptic dialogue would make shakespeare seem easy to a third grader . on a technical level it  s better than you might think with some good cinematography by future great vilmos zsigmond . future stars sally kirkland and frederic forrest can be seen briefly .  \\nhomelessness  or houselessness as george carlin stated  has been an issue for years but never a plan to help those on the street that were once considered human who did everything from going to school  work  or vote for the matter . most people think of the homeless as just a lost cause while worrying about things such as racism  the war on iraq  pressuring kids to succeed  technology  the elections  inflation  or worrying if they  ll be next to end up on the streets .  br    br   but what if y'"
      ]
     },
     "execution_count": 40,
     "metadata": {},
     "output_type": "execute_result"
    }
   ],
   "source": [
    "reviews[:2000]"
   ]
  },
  {
   "cell_type": "markdown",
   "metadata": {
    "deletable": true,
    "editable": true
   },
   "source": [
    "## Data preprocessing\n",
    "\n",
    "The first step when building a neural network model is getting your data into the proper form to feed into the network. Since we're using embedding layers, we'll need to encode each word with an integer. We'll also want to clean it up a bit.\n",
    "\n",
    "You can see an example of the reviews data above. We'll want to get rid of those periods. Also, you might notice that the reviews are delimited with newlines `\\n`. To deal with those, I'm going to split the text into each review using `\\n` as the delimiter. Then I can combined all the reviews back together into one big string.\n",
    "\n",
    "First, let's remove all punctuation. Then get all the text without the newlines and split it into individual words."
   ]
  },
  {
   "cell_type": "code",
   "execution_count": 41,
   "metadata": {
    "collapsed": true,
    "deletable": true,
    "editable": true
   },
   "outputs": [],
   "source": [
    "from string import punctuation\n",
    "all_text = ''.join([c for c in reviews if c not in punctuation])\n",
    "reviews = all_text.split('\\n')\n",
    "\n",
    "all_text = ' '.join(reviews)\n",
    "words = all_text.split()"
   ]
  },
  {
   "cell_type": "code",
   "execution_count": 42,
   "metadata": {
    "collapsed": false,
    "deletable": true,
    "editable": true
   },
   "outputs": [
    {
     "data": {
      "text/plain": [
       "'bromwell high is a cartoon comedy  it ran at the same time as some other programs about school life  such as  teachers   my   years in the teaching profession lead me to believe that bromwell high  s satire is much closer to reality than is  teachers   the scramble to survive financially  the insightful students who can see right through their pathetic teachers  pomp  the pettiness of the whole situation  all remind me of the schools i knew and their students  when i saw the episode in which a student repeatedly tried to burn down the school  i immediately recalled          at           high  a classic line inspector i  m here to sack one of your teachers  student welcome to bromwell high  i expect that many adults of my age think that bromwell high is far fetched  what a pity that it isn  t    story of a man who has unnatural feelings for a pig  starts out with a opening scene that is a terrific example of absurd comedy  a formal orchestra audience is turned into an insane  violent mob by the crazy chantings of it  s singers  unfortunately it stays absurd the whole time with no general narrative eventually making it just too off putting  even those from the era should be turned off  the cryptic dialogue would make shakespeare seem easy to a third grader  on a technical level it  s better than you might think with some good cinematography by future great vilmos zsigmond  future stars sally kirkland and frederic forrest can be seen briefly    homelessness  or houselessness as george carlin stated  has been an issue for years but never a plan to help those on the street that were once considered human who did everything from going to school  work  or vote for the matter  most people think of the homeless as just a lost cause while worrying about things such as racism  the war on iraq  pressuring kids to succeed  technology  the elections  inflation  or worrying if they  ll be next to end up on the streets   br    br   but what if you were given a bet to live on the st'"
      ]
     },
     "execution_count": 42,
     "metadata": {},
     "output_type": "execute_result"
    }
   ],
   "source": [
    "all_text[:2000]"
   ]
  },
  {
   "cell_type": "code",
   "execution_count": 43,
   "metadata": {
    "collapsed": false,
    "deletable": true,
    "editable": true
   },
   "outputs": [
    {
     "name": "stdout",
     "output_type": "stream",
     "text": [
      "6020196\n"
     ]
    }
   ],
   "source": [
    "words[:100]\n",
    "print(len(words))"
   ]
  },
  {
   "cell_type": "markdown",
   "metadata": {
    "deletable": true,
    "editable": true
   },
   "source": [
    "### Encoding the words\n",
    "\n",
    "The embedding lookup requires that we pass in integers to our network. The easiest way to do this is to create dictionaries that map the words in the vocabulary to integers. Then we can convert each of our reviews into integers so they can be passed into the network.\n",
    "\n",
    "> **Exercise:** Now you're going to encode the words with integers. Build a dictionary that maps words to integers. Later we're going to pad our input vectors with zeros, so make sure the integers **start at 1, not 0**.\n",
    "> Also, convert the reviews to integers and store the reviews in a new list called `reviews_ints`. "
   ]
  },
  {
   "cell_type": "code",
   "execution_count": 44,
   "metadata": {
    "collapsed": false,
    "deletable": true,
    "editable": true
   },
   "outputs": [
    {
     "name": "stdout",
     "output_type": "stream",
     "text": [
      "0 the\n",
      "1 and\n",
      "2 a\n",
      "3 of\n",
      "4 to\n",
      "5 is\n",
      "6 br\n",
      "7 it\n",
      "8 in\n",
      "9 i\n",
      "10 this\n",
      "11 that\n",
      "12 s\n",
      "13 was\n",
      "14 as\n",
      "15 for\n",
      "16 with\n",
      "17 movie\n",
      "18 but\n",
      "19 film\n",
      "20 you\n",
      "21 on\n",
      "22 t\n",
      "23 not\n",
      "24 he\n",
      "25 are\n",
      "26 his\n",
      "27 have\n",
      "28 be\n",
      "29 one\n",
      "30 all\n",
      "31 at\n",
      "32 they\n",
      "33 by\n",
      "34 an\n",
      "35 who\n",
      "36 so\n",
      "37 from\n",
      "38 like\n",
      "39 there\n",
      "40 her\n",
      "41 or\n",
      "42 just\n",
      "43 about\n",
      "44 out\n",
      "45 if\n",
      "46 has\n",
      "47 what\n",
      "48 some\n",
      "49 good\n",
      "50 can\n",
      "51 more\n",
      "52 she\n",
      "53 when\n",
      "54 very\n",
      "55 up\n",
      "56 time\n",
      "57 no\n",
      "58 even\n",
      "59 my\n",
      "60 would\n",
      "61 which\n",
      "62 story\n",
      "63 only\n",
      "64 really\n",
      "65 see\n",
      "66 their\n",
      "67 had\n",
      "68 we\n",
      "69 were\n",
      "70 me\n",
      "71 well\n",
      "72 than\n",
      "73 much\n",
      "74 get\n",
      "75 bad\n",
      "76 been\n",
      "77 people\n",
      "78 will\n",
      "79 do\n",
      "80 other\n",
      "81 also\n",
      "82 into\n",
      "83 first\n",
      "84 great\n",
      "85 because\n",
      "86 how\n",
      "87 him\n",
      "88 don\n",
      "89 most\n",
      "90 made\n",
      "91 its\n",
      "92 then\n",
      "93 way\n",
      "94 make\n",
      "95 them\n",
      "96 could\n",
      "97 too\n",
      "98 movies\n",
      "99 any\n",
      "['bromwell high is a cartoon comedy  it ran at the same time as some other programs about school life  such as  teachers   my   years in the teaching profession lead me to believe that bromwell high  s satire is much closer to reality than is  teachers   the scramble to survive financially  the insightful students who can see right through their pathetic teachers  pomp  the pettiness of the whole situation  all remind me of the schools i knew and their students  when i saw the episode in which a student repeatedly tried to burn down the school  i immediately recalled          at           high  a classic line inspector i  m here to sack one of your teachers  student welcome to bromwell high  i expect that many adults of my age think that bromwell high is far fetched  what a pity that it isn  t   ']\n",
      "[[21777, 308, 6, 3, 1051, 207, 8, 2140, 32, 1, 171, 57, 15, 49, 81, 5805, 44, 382, 110, 140, 15, 5219, 60, 154, 9, 1, 4993, 5894, 475, 71, 5, 260, 12, 21777, 308, 13, 1979, 6, 74, 2402, 5, 614, 73, 6, 5219, 1, 26137, 5, 1991, 10177, 1, 5808, 1502, 36, 51, 66, 204, 145, 67, 1200, 5219, 20041, 1, 38533, 4, 1, 221, 883, 31, 2991, 71, 4, 1, 5834, 10, 686, 2, 67, 1502, 54, 10, 216, 1, 384, 9, 62, 3, 1408, 3702, 784, 5, 3496, 180, 1, 382, 10, 1212, 13832, 32, 308, 3, 349, 341, 2926, 10, 143, 127, 5, 7718, 30, 4, 129, 5219, 1408, 2330, 5, 21777, 308, 10, 528, 12, 109, 1448, 4, 60, 543, 102, 12, 21777, 308, 6, 227, 4148, 48, 3, 2212, 12, 8, 215, 23], [63, 4, 3, 125, 36, 47, 7480, 1395, 16, 3, 4190, 505, 45, 17, 3, 622, 134, 12, 6, 3, 1279, 457, 4, 1722, 207, 3, 10678, 7467, 300, 6, 667, 83, 35, 2119, 1089, 2997, 34, 1, 900, 63962, 4, 8, 13, 5141, 464, 8, 2664, 1722, 1, 221, 57, 17, 58, 795, 1300, 834, 228, 8, 43, 98, 123, 1470, 59, 147, 38, 1, 965, 142, 29, 667, 123, 1, 13726, 410, 61, 95, 1781, 306, 755, 5, 3, 819, 10537, 22, 3, 1724, 636, 8, 13, 128, 73, 21, 233, 102, 17, 49, 50, 617, 34, 683, 85, 30378, 30414, 683, 374, 3349, 11413, 2, 16758, 7997, 51, 29, 108, 3325], [23769, 42, 52086, 15, 707, 17748, 3405, 47, 77, 35, 1821, 16, 154, 19, 114, 3, 1309, 5, 336, 147, 22, 1, 857, 12, 70, 281, 1168, 399, 36, 120, 283, 38, 169, 5, 382, 158, 42, 2277, 16, 1, 541, 90, 78, 102, 4, 1, 3251, 15, 43, 3, 408, 1068, 136, 8075, 44, 182, 140, 15, 3054, 1, 320, 22, 4838, 27582, 346, 5, 3092, 2092, 1, 19695, 18222, 42, 8075, 46, 33, 236, 29, 370, 5, 130, 56, 22, 1, 1930, 7, 7, 19, 48, 46, 21, 70, 345, 3, 2102, 5, 407, 22, 1, 1930, 16, 3, 3134, 205, 1, 29070, 21, 281, 68, 38, 3, 340, 1, 700, 716, 3, 3843, 1230, 22, 1, 1491, 3, 1197, 2, 283, 21, 281, 2436, 5, 66, 48, 8, 13, 39, 5, 29, 3251, 12, 6, 21387, 11754, 13, 2018, 7, 7, 3692, 2826, 36, 4163, 36, 374, 15, 11754, 296, 3, 997, 125, 36, 47, 283, 9, 1, 176, 363, 6938, 5, 95, 3, 2102, 17, 3, 4997, 2936, 14731, 19929, 5, 66, 46, 25, 51, 407, 9, 1, 1930, 16, 3238, 490, 205, 1, 29070, 46, 11754, 2847, 25, 51, 80, 48, 25, 483, 17, 3, 683, 1153, 4, 228, 52, 4490, 1, 2102, 13, 22, 118, 11754, 6, 1347, 22, 1, 857, 17, 3, 19009, 22, 27, 3898, 5, 10268, 27, 174, 829, 118, 25, 51, 23, 1458, 123, 1, 6483, 25, 13, 345, 1, 13775, 32072, 34, 3, 35454, 101, 8, 13, 391, 22, 27, 11889, 118, 11754, 874, 81, 103, 577, 3, 240, 34, 1, 393, 4, 4664, 16502, 1816, 3764, 35, 1201, 3115, 36, 188, 4068, 160, 2288, 41, 340, 2, 41, 8946, 6848, 1988, 4325, 2, 31968, 8860, 2466, 36, 26, 454, 338, 5, 1, 1930, 33, 155, 4246, 11754, 215, 23, 25, 13, 24, 338, 5, 4451, 5903, 31682, 39, 25, 281, 120, 54, 111, 997, 118, 8, 13, 535, 42, 2726, 501, 42, 29, 548, 7, 7, 136, 1, 115, 2007, 198, 4664, 2, 11754, 285, 23, 1651, 5, 112, 10, 254, 110, 4374, 5, 29, 30, 4, 3692, 2826, 16221, 107, 118, 2534, 5, 111, 3, 207, 8, 286, 3, 4243, 488, 1060, 5, 27, 2741, 158, 140, 15, 7573, 11678, 184, 4561, 42, 19380, 16, 1, 541, 5, 121, 48, 8, 13, 39, 255, 141, 4519, 160, 2288, 8, 1, 370, 245, 42, 22, 1, 81, 495, 228, 3, 372, 2102, 39, 31, 997, 78, 80, 54, 33, 89, 23, 122, 48, 5, 80, 17, 67, 274, 277, 33, 142, 201, 8, 5, 1, 3251, 303, 4, 757, 8, 39, 17655, 274, 7, 7, 42, 277, 11, 20, 79, 5856, 21, 5, 336, 400], [4525, 505, 15, 3, 3353, 162, 8415, 1652, 6, 4854, 56, 17, 4519, 5652, 140, 11941, 5, 997, 4970, 2948, 4462, 566, 1204, 36, 6, 1521, 96, 3, 744, 4, 27762, 13, 5, 27, 3479, 9, 10874, 4, 8, 111, 3013, 5, 1, 1027, 15, 3, 4403, 82, 22, 2057, 6, 4462, 538, 2770, 7135, 43178, 41, 463, 1, 8415, 66079, 302, 123, 15, 4249, 19, 1667, 923, 1, 1652, 6, 6182, 19921, 34, 1, 980, 1751, 23459, 646, 25462, 27, 106, 12027, 13, 14186, 15612, 17947, 2466, 466, 21832, 36, 3278, 1, 6390, 1020, 45, 17, 2705, 2505, 33, 1309, 5, 2081, 1, 4519, 11895, 1498, 22, 3, 22371, 1652, 3206, 22, 35, 4338, 1067, 19, 136, 228, 27, 4672, 23459, 217, 1910, 35, 3218, 17671, 9, 1, 4156, 1961, 1113, 4, 1, 1652, 5663, 8, 6584, 83, 1, 1958, 118, 8, 8155, 5, 1, 1303, 204, 4011, 9, 1, 641, 4, 1, 36922, 5854, 17, 923, 9, 343, 6240, 1047, 29662, 9, 255, 15724, 119, 1989, 123, 259, 1, 695, 12319, 16, 1, 4853, 13, 15, 33, 12640, 336, 17, 57, 690, 608, 45, 7, 7, 82, 560, 458, 1, 1056, 271, 31063, 4525, 11, 330, 738, 5, 1, 6754, 557, 1664, 688, 4525, 14, 516, 34, 1437, 9201, 136, 281, 173, 39, 8, 13, 8394, 10, 51, 23, 133, 4525, 6, 100, 428, 4, 1531, 349, 8, 6, 440, 256, 24, 2688, 16, 1, 204, 988, 45, 4, 1, 287, 4525, 107, 10, 28, 108, 37, 227, 10, 165, 418, 11, 30, 1, 117, 43, 8, 47, 60, 1622, 112, 4, 1, 287, 17, 3, 324, 1667, 923, 6182, 34095, 93, 1, 6584, 161, 23, 25, 66, 1, 3218, 17671, 6237, 4, 1, 277, 1, 1154, 70, 264, 5, 1638, 1, 200, 4525, 17, 159, 1043, 1664, 494, 4, 1, 791, 1, 35830, 1116, 19233, 6, 118, 8, 2664, 363, 1, 130, 17, 3, 5246, 6346, 4419, 147, 2593, 982, 342, 40634, 54, 1, 923, 1107, 45, 42, 10952, 15, 1, 25514, 42, 46, 100, 4, 1, 3543, 26, 3013, 8, 13, 3, 531, 322, 12, 97, 28, 91, 16, 3, 85, 116, 1664, 494, 19, 76, 6842, 104, 13, 739, 410, 12387, 265, 1299, 3, 146, 574, 4, 2336, 42, 817, 42, 1055, 801, 11, 6, 3, 1026, 1403, 136, 1, 246, 13072, 112, 920, 30, 2147, 16, 1008, 229, 24, 12, 74, 559, 101, 1, 1652, 8155, 40, 13, 24, 15, 74, 8856, 15, 10, 195, 40, 142, 28, 77, 59, 54, 1, 2913, 409, 562, 182, 89, 23, 1237, 56, 12, 74, 17, 3, 170, 648, 4, 653, 5111, 10726, 1521, 44, 19, 40, 13, 43, 141, 1870, 127, 707, 4015, 15, 1, 40333, 12196, 3444, 865, 41318, 6, 144, 19, 64, 211, 3, 369, 4, 137, 1177, 59, 549, 231, 16761, 5, 43, 167, 3754, 9, 1, 958, 7, 7, 1, 340, 366, 2223, 310, 4, 4525, 506, 229, 136, 1, 178, 242, 2033, 748, 35, 1689, 522, 4, 908, 577, 3, 162, 622, 878, 703, 109, 52, 137, 17, 707, 4015, 15, 41318, 2128, 5, 2083, 45, 104, 13, 1184, 2203, 137, 1, 3777, 42, 159, 369, 4, 339, 2306, 577, 1, 35128, 136, 10, 61, 39, 5, 66, 11, 1689, 908, 10, 239, 24, 249, 10, 97, 848, 145, 3, 734, 287, 522, 584, 4, 4525, 15, 853, 1, 20, 47, 1937, 892, 17, 517, 7853, 7427, 1571, 2809, 10, 79, 133, 58, 52, 81, 73, 1, 2827, 1652, 2121, 298, 696, 23, 85, 342, 364, 17, 1, 81, 106, 4525, 2260, 11, 302, 3089, 4, 269, 9, 1, 10819, 1316, 13, 2281, 4, 879, 256, 10, 51, 102, 4, 760, 4, 429, 107, 73, 11, 37, 10, 11044, 12, 13, 3, 116, 2458, 1, 202, 137, 26, 3, 116, 739, 464, 1, 1042, 6, 539, 24, 74, 2289, 42, 1055, 6, 4841, 62, 6, 3, 879, 15, 10, 11044, 11, 97, 28, 77, 3, 183, 50, 20, 46, 91, 2853, 7, 7, 1, 360, 1205, 26, 2629, 46, 163, 2070, 1, 113, 215, 23, 85, 106, 57, 708, 2192, 669, 3981, 47, 301, 234, 8, 14, 3, 1293, 5, 318, 9, 11, 30, 57, 708, 2192, 566, 1204, 268, 153, 11143, 82, 30, 57, 708, 2192, 743, 1972, 268, 1794, 136, 2654, 1331, 743, 6, 345, 116, 5, 80, 40, 26, 936, 4, 81, 1062, 1562, 5, 167, 45, 16, 98, 7, 7, 4525, 6, 1, 90, 1664, 21275, 4, 1, 287, 4525, 107, 37, 227, 10, 418, 1, 989, 485, 8, 59, 46, 33, 70, 3, 223, 694, 1, 360, 1898, 452, 151, 23, 336, 150, 3, 20, 44, 3, 16081, 1652, 43, 1587, 23, 29, 11, 354, 42, 12387, 1460, 34, 1, 24013, 4525], [520, 119, 113, 34, 16502, 1816, 3764, 117, 885, 21556, 721, 10, 28, 124, 108, 2, 115, 137, 9, 1624, 7741, 26, 330, 5, 590, 1, 6172, 22, 386, 6, 3, 349, 15, 50, 15, 231, 9, 7573, 11678, 1, 191, 22, 9026, 6, 82, 880, 101, 111, 3598, 4, 111, 3, 29675, 3459, 45, 27, 1328, 2, 111, 12456, 1, 2364, 4, 32072, 11754, 24265, 32461, 10, 143, 3, 2364, 25, 549, 287, 164, 697, 4044, 19929, 3, 502, 38, 1, 299, 2645, 6534, 121, 6, 759, 127, 98, 15, 3, 1137, 5115, 36, 483, 5, 4206, 1, 6652, 27, 104, 6, 52, 10511, 73, 633, 1, 1520, 134, 2, 1, 134, 118, 1, 3251, 17220, 3, 14335, 2100, 26, 31, 57, 2185, 167, 16, 1, 2951, 134, 2, 1, 106, 192, 16296, 975, 30, 24452, 11, 18, 211, 128, 253, 57, 10, 66, 8, 62, 6, 179, 397], [11, 20, 3658, 141, 10, 423, 23, 272, 60, 4356, 22, 32, 84, 3299, 22, 1, 172, 4, 1, 952, 507, 11, 4996, 5366, 5, 574, 4, 1155, 54, 53, 5352, 1, 261, 17, 41, 952, 125, 59, 1, 712, 137, 379, 627, 15, 111, 1511, 1, 156, 32, 292, 8, 97, 55, 72, 28, 77, 1, 157, 36, 44138, 48, 25, 872, 38, 1, 156, 10, 43, 89, 23, 122, 7, 7, 19, 97, 8, 28, 77, 1, 860, 43, 605, 36, 14, 1, 8831, 9, 115, 17, 25, 460, 52, 15596, 4, 27, 31507, 1940, 2, 3704, 2, 1092, 4, 309, 2, 27, 6145, 6116, 73, 4, 1705, 42, 231, 326, 25, 114, 2315, 71, 25, 14, 9, 115, 17, 1, 2489, 7, 7, 10, 14, 672, 9, 11, 18, 19, 89, 23, 837, 8, 14, 2273, 16, 35, 708, 37, 1860, 16, 611], [11, 6, 693, 1, 90, 2159, 20, 11768, 1, 2826, 5194, 249, 92, 3012, 8, 126, 24, 201, 3, 803, 634, 4, 23769, 1001, 133, 87, 3540, 3348, 509, 3, 803, 634, 4, 16872, 5141, 42, 2555, 509, 3, 803, 634, 4, 9032, 21, 3732, 109, 4, 1, 624, 787, 1010, 19, 131, 11, 20, 6, 55, 3189, 9, 3, 94, 109, 1261, 26, 24, 2, 5, 1572, 12, 123, 9, 3, 63, 44, 49, 4, 1, 90, 11762, 22577, 1039, 4, 876, 6, 365, 1132, 92, 24, 1, 3446, 607, 19, 92, 24, 582, 342, 60, 64, 3270, 6, 12, 2826, 142, 28, 177, 279, 326, 9, 1, 475, 10, 115, 3692, 15, 3, 157, 2, 533, 24, 37, 74, 15, 3, 475], [786, 295, 10, 122, 11, 6, 419, 5, 29, 35, 482, 20, 19, 1283, 33, 142, 28, 2663, 45, 1843, 32, 1, 2789, 37, 78, 97, 2443, 67, 3960, 45, 2, 24, 105, 256, 1, 134, 1571, 2, 12398, 452, 14, 319, 11, 63, 6, 98, 1323, 5, 105, 1, 3788, 4, 3, 473, 1383, 14, 1738, 1, 59499, 648, 70, 98, 194, 87, 194, 51, 21, 105, 106, 78, 43, 1240, 40, 2, 642, 257, 54, 1, 410, 6, 106, 78, 5250, 10, 65, 68, 3, 250, 57, 43, 390, 145, 11, 20, 1, 351, 70, 319, 19, 87, 74, 4, 12, 453, 14774, 3594, 529, 51, 21, 191, 1, 64, 152, 10, 418, 14, 7075, 14902, 2, 41, 737, 2678, 2, 1074, 134, 881, 11, 14, 3, 7517, 4, 4391, 2, 10, 143, 58, 331, 1312, 27, 342, 10, 102, 251, 36, 549, 33, 499, 620, 4, 11, 6, 72, 3159], [11, 6, 24, 1, 779, 3692, 2826, 20, 8, 14, 74, 325, 2741, 73, 90, 4, 27, 99, 2, 165, 68, 3, 112, 12, 14, 29464, 2787, 1816, 3764, 91, 1, 18, 53, 6, 140, 3, 759, 458, 1124, 507, 40, 70, 49, 381, 12, 97, 28, 77, 6546, 45, 3, 223, 52, 2, 49, 137, 12, 97, 238, 28, 77, 584, 5, 95, 1, 654, 5, 80, 37, 19, 31, 9, 31, 11, 6, 288, 1, 1786, 5, 831, 2, 66, 8, 1, 113, 14, 50, 442, 2826, 309, 120, 3, 50, 289, 205, 27, 7654, 1362, 5, 2516, 5, 1, 300, 173, 3764, 14, 1, 117, 270, 9, 1, 18, 19, 37847, 2, 6848, 197, 252, 67, 521, 72], [54, 10, 14, 116, 60, 798, 552, 71, 364, 5, 1, 731, 5, 66, 8120, 8, 14, 30, 4, 109, 99, 10, 293, 17, 60, 798, 19, 11, 14, 1, 64, 30, 69, 2501, 45, 4, 234, 93, 10, 68, 114, 108, 8120, 363, 43, 1009, 2, 10, 97, 28, 1432, 45, 1, 357, 4, 60, 110, 205, 8, 48, 3, 1928, 10951, 2, 2129, 354, 412, 4, 13, 6689, 2, 2982, 5189, 2131, 1368, 6, 30, 4, 60, 502, 875, 19, 8120, 6, 34, 227, 1, 247, 412, 4, 582, 4, 27, 599, 9, 1, 13644, 395, 4, 14235, 17088, 1368, 403, 178, 3, 453, 21731, 8994, 2609, 9, 5, 1, 450, 4, 3, 212, 11909, 34, 1, 1948, 3996, 2146, 34, 4068, 23689, 599, 115, 685, 115, 61821, 824, 1, 20, 4641, 47, 58, 681, 2115, 58, 224, 2, 6, 14331, 9, 9505, 6846, 11, 20, 395, 51, 29, 117, 4776, 15, 13032, 9, 851, 757, 35, 24168, 4170, 4, 410, 5, 14160, 3, 52, 10011, 1111, 4, 1191, 2, 855, 19, 2131, 1368, 6, 58, 14235, 4391, 1, 20, 6, 2129, 539, 2, 739, 19, 705, 12, 10, 328, 68, 58, 2007, 17, 42, 2476, 16, 100, 4, 1, 103, 303, 10, 416, 64, 6026, 16, 11, 5167, 4, 18362, 6525, 29043, 15819, 29116, 9, 3, 12004, 2642, 16, 2019, 8374, 3, 4098, 4, 23881, 40939, 2, 8079, 42280, 30165, 1, 63, 20318, 39, 3, 7423, 9, 1, 654, 295, 2439, 9, 3872, 16568, 2, 11024, 1073, 198, 11032, 295, 6, 408, 2, 2490, 1648, 5, 168, 452, 42, 1885, 42, 824, 2, 8, 43, 266, 22, 2, 22, 5, 1, 210, 118, 21, 43, 181, 5, 3626, 31, 4, 96, 8, 13, 114, 44, 3434, 8, 13, 64, 44, 9709, 13677, 13577, 8, 6, 163, 52, 73, 3, 1948, 448, 613, 5, 35, 1540, 705, 1, 300, 13, 1229, 5, 3762, 2131, 1368, 2445, 5, 95, 103, 37, 9433, 9, 525, 69, 230, 313, 45, 2, 16, 12, 284, 10, 254, 11, 18, 2129, 524, 5073, 2, 18742, 13593, 10, 66, 48, 25, 14, 169, 16, 19, 27, 13270, 22, 8555, 27, 729, 145, 26006, 16027, 2, 8284, 20, 3332, 33027, 8, 491, 1, 210, 4, 7100, 10, 534, 380, 11, 30, 46, 21, 155, 537, 3, 116, 98, 632, 2, 355, 141, 5, 2991, 21, 4, 333, 881, 278, 13, 43, 3883, 11, 20, 114, 563]]\n"
     ]
    }
   ],
   "source": [
    "# Create your dictionary that maps vocab words to integers here\n",
    "from collections import Counter\n",
    "counts = Counter(words)\n",
    "vocab = sorted(counts, key=counts.get, reverse=True)\n",
    "for i,c in enumerate(vocab[:100]):\n",
    "    print(i,c)\n",
    "vocab_to_int = {c : i for i,c in enumerate(vocab,1)}\n",
    "\n",
    "# Convert the reviews to integers, same shape as reviews list, but with integers\n",
    "print(reviews[:1])\n",
    "#reviews_ints = [vocab_to_int[word] for word in reviews]\n",
    "\n",
    "reviews_ints = []\n",
    "for each in reviews:\n",
    "    reviews_ints.append([vocab_to_int[word] for word in each.split()])\n",
    "    \n",
    "print(reviews_ints[:10])\n",
    "    \n",
    "    "
   ]
  },
  {
   "cell_type": "markdown",
   "metadata": {
    "deletable": true,
    "editable": true
   },
   "source": [
    "### Encoding the labels\n",
    "\n",
    "Our labels are \"positive\" or \"negative\". To use these labels in our network, we need to convert them to 0 and 1.\n",
    "\n",
    "> **Exercise:** Convert labels from `positive` and `negative` to 1 and 0, respectively."
   ]
  },
  {
   "cell_type": "code",
   "execution_count": 45,
   "metadata": {
    "collapsed": false,
    "deletable": true,
    "editable": true
   },
   "outputs": [
    {
     "name": "stdout",
     "output_type": "stream",
     "text": [
      "[1, 0, 1, 0, 1, 0, 1, 0, 1, 0]\n"
     ]
    }
   ],
   "source": [
    "# Convert labels to 1s and 0s for 'positive' and 'negative'\n",
    "#print(labels[:20])\n",
    "labels = [(1 if label == \"positive\" else 0) for label in labels.split()]\n",
    "print(labels[:10])"
   ]
  },
  {
   "cell_type": "markdown",
   "metadata": {
    "deletable": true,
    "editable": true
   },
   "source": [
    "If you built `labels` correctly, you should see the next output."
   ]
  },
  {
   "cell_type": "code",
   "execution_count": 46,
   "metadata": {
    "collapsed": false,
    "deletable": true,
    "editable": true
   },
   "outputs": [
    {
     "name": "stdout",
     "output_type": "stream",
     "text": [
      "Zero-length reviews: 1\n",
      "Maximum review length: 2514\n"
     ]
    }
   ],
   "source": [
    "from collections import Counter\n",
    "review_lens = Counter([len(x) for x in reviews_ints])\n",
    "print(\"Zero-length reviews: {}\".format(review_lens[0]))\n",
    "print(\"Maximum review length: {}\".format(max(review_lens)))"
   ]
  },
  {
   "cell_type": "markdown",
   "metadata": {
    "deletable": true,
    "editable": true
   },
   "source": [
    "Okay, a couple issues here. We seem to have one review with zero length. And, the maximum review length is way too many steps for our RNN. Let's truncate to 200 steps. For reviews shorter than 200, we'll pad with 0s. For reviews longer than 200, we can truncate them to the first 200 characters.\n",
    "\n",
    "> **Exercise:** First, remove the review with zero length from the `reviews_ints` list."
   ]
  },
  {
   "cell_type": "code",
   "execution_count": 47,
   "metadata": {
    "collapsed": false,
    "deletable": true,
    "editable": true
   },
   "outputs": [],
   "source": [
    "# Filter out that review with 0 length\n",
    "non_zero_idx = [ii for ii, review in enumerate(reviews_ints) if len(review) != 0]\n",
    "len(non_zero_idx)\n",
    "reviews_ints = [reviews_ints[ii] for ii in non_zero_idx]\n",
    "labels = np.array([labels[ii] for ii in non_zero_idx])\n"
   ]
  },
  {
   "cell_type": "markdown",
   "metadata": {
    "deletable": true,
    "editable": true
   },
   "source": [
    "> **Exercise:** Now, create an array `features` that contains the data we'll pass to the network. The data should come from `review_ints`, since we want to feed integers to the network. Each row should be 200 elements long. For reviews shorter than 200 words, left pad with 0s. That is, if the review is `['best', 'movie', 'ever']`, `[117, 18, 128]` as integers, the row will look like `[0, 0, 0, ..., 0, 117, 18, 128]`. For reviews longer than 200, use on the first 200 words as the feature vector.\n",
    "\n",
    "This isn't trivial and there are a bunch of ways to do this. But, if you're going to be building your own deep learning networks, you're going to have to get used to preparing your data.\n",
    "\n"
   ]
  },
  {
   "cell_type": "code",
   "execution_count": 50,
   "metadata": {
    "collapsed": false,
    "deletable": true,
    "editable": true
   },
   "outputs": [],
   "source": [
    "seq_len = 200\n",
    "\n",
    "features = np.zeros((len(reviews_ints), seq_len), dtype=int)\n",
    "for i, row in enumerate(reviews_ints):\n",
    "    features[i, -len(row):] = np.array(row)[:seq_len]"
   ]
  },
  {
   "cell_type": "markdown",
   "metadata": {
    "deletable": true,
    "editable": true
   },
   "source": [
    "If you build features correctly, it should look like that cell output below."
   ]
  },
  {
   "cell_type": "code",
   "execution_count": 51,
   "metadata": {
    "collapsed": false,
    "deletable": true,
    "editable": true
   },
   "outputs": [
    {
     "data": {
      "text/plain": [
       "array([[    0,     0,     0,     0,     0,     0,     0,     0,     0,\n",
       "            0,     0,     0,     0,     0,     0,     0,     0,     0,\n",
       "            0,     0,     0,     0,     0,     0,     0,     0,     0,\n",
       "            0,     0,     0,     0,     0,     0,     0,     0,     0,\n",
       "            0,     0,     0,     0,     0,     0,     0,     0,     0,\n",
       "            0,     0,     0,     0,     0,     0,     0,     0,     0,\n",
       "            0,     0,     0,     0,     0,     0, 21777,   308,     6,\n",
       "            3,  1051,   207,     8,  2140,    32,     1,   171,    57,\n",
       "           15,    49,    81,  5805,    44,   382,   110,   140,    15,\n",
       "         5219,    60,   154,     9,     1,  4993,  5894,   475,    71,\n",
       "            5,   260,    12, 21777,   308,    13,  1979,     6,    74,\n",
       "         2402],\n",
       "       [    0,     0,     0,     0,     0,     0,     0,     0,     0,\n",
       "            0,     0,     0,     0,     0,     0,     0,     0,     0,\n",
       "            0,     0,     0,     0,     0,     0,     0,     0,     0,\n",
       "            0,     0,     0,     0,     0,     0,     0,     0,     0,\n",
       "            0,     0,     0,     0,     0,     0,     0,     0,     0,\n",
       "            0,     0,     0,     0,     0,     0,     0,     0,     0,\n",
       "            0,     0,     0,     0,     0,     0,     0,     0,     0,\n",
       "            0,     0,     0,     0,     0,     0,     0,     0,     0,\n",
       "            0,     0,     0,     0,     0,     0,     0,     0,     0,\n",
       "            0,     0,     0,     0,     0,    63,     4,     3,   125,\n",
       "           36,    47,  7480,  1395,    16,     3,  4190,   505,    45,\n",
       "           17],\n",
       "       [23769,    42, 52086,    15,   707, 17748,  3405,    47,    77,\n",
       "           35,  1821,    16,   154,    19,   114,     3,  1309,     5,\n",
       "          336,   147,    22,     1,   857,    12,    70,   281,  1168,\n",
       "          399,    36,   120,   283,    38,   169,     5,   382,   158,\n",
       "           42,  2277,    16,     1,   541,    90,    78,   102,     4,\n",
       "            1,  3251,    15,    43,     3,   408,  1068,   136,  8075,\n",
       "           44,   182,   140,    15,  3054,     1,   320,    22,  4838,\n",
       "        27582,   346,     5,  3092,  2092,     1, 19695, 18222,    42,\n",
       "         8075,    46,    33,   236,    29,   370,     5,   130,    56,\n",
       "           22,     1,  1930,     7,     7,    19,    48,    46,    21,\n",
       "           70,   345,     3,  2102,     5,   407,    22,     1,  1930,\n",
       "           16],\n",
       "       [ 4525,   505,    15,     3,  3353,   162,  8415,  1652,     6,\n",
       "         4854,    56,    17,  4519,  5652,   140, 11941,     5,   997,\n",
       "         4970,  2948,  4462,   566,  1204,    36,     6,  1521,    96,\n",
       "            3,   744,     4, 27762,    13,     5,    27,  3479,     9,\n",
       "        10874,     4,     8,   111,  3013,     5,     1,  1027,    15,\n",
       "            3,  4403,    82,    22,  2057,     6,  4462,   538,  2770,\n",
       "         7135, 43178,    41,   463,     1,  8415, 66079,   302,   123,\n",
       "           15,  4249,    19,  1667,   923,     1,  1652,     6,  6182,\n",
       "        19921,    34,     1,   980,  1751, 23459,   646, 25462,    27,\n",
       "          106, 12027,    13, 14186, 15612, 17947,  2466,   466, 21832,\n",
       "           36,  3278,     1,  6390,  1020,    45,    17,  2705,  2505,\n",
       "           33],\n",
       "       [    0,     0,     0,     0,     0,     0,     0,     0,     0,\n",
       "            0,     0,     0,     0,     0,     0,     0,     0,     0,\n",
       "            0,     0,     0,     0,     0,     0,     0,     0,     0,\n",
       "            0,     0,     0,     0,     0,     0,     0,     0,     0,\n",
       "            0,     0,     0,     0,     0,     0,     0,     0,     0,\n",
       "            0,     0,     0,     0,     0,   520,   119,   113,    34,\n",
       "        16502,  1816,  3764,   117,   885, 21556,   721,    10,    28,\n",
       "          124,   108,     2,   115,   137,     9,  1624,  7741,    26,\n",
       "          330,     5,   590,     1,  6172,    22,   386,     6,     3,\n",
       "          349,    15,    50,    15,   231,     9,  7573, 11678,     1,\n",
       "          191,    22,  9026,     6,    82,   880,   101,   111,  3598,\n",
       "            4],\n",
       "       [    0,     0,     0,     0,     0,     0,     0,     0,     0,\n",
       "            0,     0,     0,     0,     0,     0,     0,     0,     0,\n",
       "            0,     0,     0,     0,     0,     0,     0,     0,     0,\n",
       "            0,     0,     0,     0,     0,     0,     0,     0,     0,\n",
       "            0,     0,     0,     0,     0,     0,     0,     0,     0,\n",
       "            0,     0,     0,     0,     0,     0,     0,     0,     0,\n",
       "           11,    20,  3658,   141,    10,   423,    23,   272,    60,\n",
       "         4356,    22,    32,    84,  3299,    22,     1,   172,     4,\n",
       "            1,   952,   507,    11,  4996,  5366,     5,   574,     4,\n",
       "         1155,    54,    53,  5352,     1,   261,    17,    41,   952,\n",
       "          125,    59,     1,   712,   137,   379,   627,    15,   111,\n",
       "         1511],\n",
       "       [    0,     0,     0,     0,     0,     0,     0,     0,     0,\n",
       "            0,     0,     0,     0,     0,     0,     0,     0,     0,\n",
       "            0,     0,     0,     0,     0,     0,     0,     0,     0,\n",
       "            0,     0,     0,     0,     0,     0,     0,     0,     0,\n",
       "            0,     0,     0,     0,     0,     0,     0,     0,     0,\n",
       "            0,     0,     0,     0,     0,     0,     0,     0,     0,\n",
       "            0,     0,     0,     0,     0,     0,     0,     0,     0,\n",
       "            0,     0,     0,     0,     0,     0,     0,     0,     0,\n",
       "            0,     0,     0,     0,    11,     6,   693,     1,    90,\n",
       "         2159,    20, 11768,     1,  2826,  5194,   249,    92,  3012,\n",
       "            8,   126,    24,   201,     3,   803,   634,     4, 23769,\n",
       "         1001],\n",
       "       [    0,     0,     0,     0,     0,     0,     0,     0,     0,\n",
       "            0,     0,     0,     0,     0,     0,     0,     0,     0,\n",
       "            0,     0,     0,     0,     0,     0,     0,     0,     0,\n",
       "            0,     0,     0,     0,     0,     0,     0,     0,     0,\n",
       "            0,     0,     0,     0,     0,     0,     0,     0,     0,\n",
       "            0,     0,   786,   295,    10,   122,    11,     6,   419,\n",
       "            5,    29,    35,   482,    20,    19,  1283,    33,   142,\n",
       "           28,  2663,    45,  1843,    32,     1,  2789,    37,    78,\n",
       "           97,  2443,    67,  3960,    45,     2,    24,   105,   256,\n",
       "            1,   134,  1571,     2, 12398,   452,    14,   319,    11,\n",
       "           63,     6,    98,  1323,     5,   105,     1,  3788,     4,\n",
       "            3],\n",
       "       [    0,     0,     0,     0,     0,     0,     0,     0,     0,\n",
       "            0,     0,     0,     0,     0,     0,     0,     0,     0,\n",
       "            0,     0,     0,     0,     0,     0,     0,     0,     0,\n",
       "            0,     0,     0,     0,     0,     0,     0,     0,     0,\n",
       "            0,     0,     0,     0,     0,     0,     0,     0,     0,\n",
       "            0,     0,     0,     0,     0,     0,     0,     0,     0,\n",
       "            0,     0,     0,     0,     0,     0,     0,     0,     0,\n",
       "            0,     0,     0,     0,     0,     0,     0,     0,     0,\n",
       "            0,     0,     0,     0,     0,     0,     0,    11,     6,\n",
       "           24,     1,   779,  3692,  2826,    20,     8,    14,    74,\n",
       "          325,  2741,    73,    90,     4,    27,    99,     2,   165,\n",
       "           68],\n",
       "       [   54,    10,    14,   116,    60,   798,   552,    71,   364,\n",
       "            5,     1,   731,     5,    66,  8120,     8,    14,    30,\n",
       "            4,   109,    99,    10,   293,    17,    60,   798,    19,\n",
       "           11,    14,     1,    64,    30,    69,  2501,    45,     4,\n",
       "          234,    93,    10,    68,   114,   108,  8120,   363,    43,\n",
       "         1009,     2,    10,    97,    28,  1432,    45,     1,   357,\n",
       "            4,    60,   110,   205,     8,    48,     3,  1928, 10951,\n",
       "            2,  2129,   354,   412,     4,    13,  6689,     2,  2982,\n",
       "         5189,  2131,  1368,     6,    30,     4,    60,   502,   875,\n",
       "           19,  8120,     6,    34,   227,     1,   247,   412,     4,\n",
       "          582,     4,    27,   599,     9,     1, 13644,   395,     4,\n",
       "        14235]])"
      ]
     },
     "execution_count": 51,
     "metadata": {},
     "output_type": "execute_result"
    }
   ],
   "source": [
    "features[:10,:100]"
   ]
  },
  {
   "cell_type": "markdown",
   "metadata": {
    "deletable": true,
    "editable": true
   },
   "source": [
    "## Training, Validation, Test\n",
    "\n"
   ]
  },
  {
   "cell_type": "markdown",
   "metadata": {
    "deletable": true,
    "editable": true
   },
   "source": [
    "With our data in nice shape, we'll split it into training, validation, and test sets.\n",
    "\n",
    "> **Exercise:** Create the training, validation, and test sets here. You'll need to create sets for the features and the labels, `train_x` and `train_y` for example. Define a split fraction, `split_frac` as the fraction of data to keep in the training set. Usually this is set to 0.8 or 0.9. The rest of the data will be split in half to create the validation and testing data."
   ]
  },
  {
   "cell_type": "code",
   "execution_count": 55,
   "metadata": {
    "collapsed": false,
    "deletable": true,
    "editable": true
   },
   "outputs": [
    {
     "name": "stdout",
     "output_type": "stream",
     "text": [
      "\t\t\tFeature Shapes:\n",
      "Train set: \t\t(20000, 200) \n",
      "Validation set: \t(2500, 200) \n",
      "Test set: \t\t(2500, 200)\n"
     ]
    }
   ],
   "source": [
    "split_frac = 0.8\n",
    "vectors = len(features)\n",
    "train_x, val_x = features[0: int(split_frac * vectors)], features[int(split_frac * vectors) :  vectors]\n",
    "train_y, val_y =  labels[0: int(split_frac * vectors)], labels[int(split_frac * vectors) :  vectors]\n",
    "\n",
    "val_x, test_x = val_x[0:int(0.5 * len(val_x))], val_x[int(0.5 * len(val_x)) :  len(val_x)]\n",
    "val_y, test_y = val_y[0:int(0.5 * len(val_x))], val_y[int(0.5 * len(val_x)) :  len(val_x)]\n",
    "\n",
    "print(\"\\t\\t\\tFeature Shapes:\")\n",
    "print(\"Train set: \\t\\t{}\".format(train_x.shape), \n",
    "      \"\\nValidation set: \\t{}\".format(val_x.shape),\n",
    "      \"\\nTest set: \\t\\t{}\".format(test_x.shape))"
   ]
  },
  {
   "cell_type": "markdown",
   "metadata": {
    "deletable": true,
    "editable": true
   },
   "source": [
    "With train, validation, and text fractions of 0.8, 0.1, 0.1, the final shapes should look like:\n",
    "```\n",
    "                    Feature Shapes:\n",
    "Train set: \t\t (20000, 200) \n",
    "Validation set: \t(2500, 200) \n",
    "Test set: \t\t  (2500, 200)\n",
    "```"
   ]
  },
  {
   "cell_type": "markdown",
   "metadata": {
    "deletable": true,
    "editable": true
   },
   "source": [
    "## Build the graph\n",
    "\n",
    "Here, we'll build the graph. First up, defining the hyperparameters.\n",
    "\n",
    "* `lstm_size`: Number of units in the hidden layers in the LSTM cells. Usually larger is better performance wise. Common values are 128, 256, 512, etc.\n",
    "* `lstm_layers`: Number of LSTM layers in the network. I'd start with 1, then add more if I'm underfitting.\n",
    "* `batch_size`: The number of reviews to feed the network in one training pass. Typically this should be set as high as you can go without running out of memory.\n",
    "* `learning_rate`: Learning rate"
   ]
  },
  {
   "cell_type": "code",
   "execution_count": 56,
   "metadata": {
    "collapsed": true,
    "deletable": true,
    "editable": true
   },
   "outputs": [],
   "source": [
    "lstm_size = 256\n",
    "lstm_layers = 1\n",
    "batch_size = 500\n",
    "learning_rate = 0.001"
   ]
  },
  {
   "cell_type": "markdown",
   "metadata": {
    "deletable": true,
    "editable": true
   },
   "source": [
    "For the network itself, we'll be passing in our 200 element long review vectors. Each batch will be `batch_size` vectors. We'll also be using dropout on the LSTM layer, so we'll make a placeholder for the keep probability."
   ]
  },
  {
   "cell_type": "markdown",
   "metadata": {
    "deletable": true,
    "editable": true
   },
   "source": [
    "> **Exercise:** Create the `inputs_`, `labels_`, and drop out `keep_prob` placeholders using `tf.placeholder`. `labels_` needs to be two-dimensional to work with some functions later.  Since `keep_prob` is a scalar (a 0-dimensional tensor), you shouldn't provide a size to `tf.placeholder`."
   ]
  },
  {
   "cell_type": "code",
   "execution_count": 64,
   "metadata": {
    "collapsed": false,
    "deletable": true,
    "editable": true
   },
   "outputs": [],
   "source": [
    "n_words = len(vocab_to_int) + 1 # Adding 1 because we use 0's for padding, dictionary started at 1\n",
    "\n",
    "# Create the graph object\n",
    "graph = tf.Graph()\n",
    "# Add nodes to the graph\n",
    "with graph.as_default():\n",
    "    inputs_ = tf.placeholder(tf.int32, [None, None], name='inputs')\n",
    "    labels_ = tf.placeholder(tf.int32, [None, None], name='labels')\n",
    "    keep_prob = tf.placeholder(tf.float32)"
   ]
  },
  {
   "cell_type": "markdown",
   "metadata": {
    "deletable": true,
    "editable": true
   },
   "source": [
    "### Embedding\n",
    "\n",
    "Now we'll add an embedding layer. We need to do this because there are 74000 words in our vocabulary. It is massively inefficient to one-hot encode our classes here. You should remember dealing with this problem from the word2vec lesson. Instead of one-hot encoding, we can have an embedding layer and use that layer as a lookup table. You could train an embedding layer using word2vec, then load it here. But, it's fine to just make a new layer and let the network learn the weights.\n",
    "\n",
    "> **Exercise:** Create the embedding lookup matrix as a `tf.Variable`. Use that embedding matrix to get the embedded vectors to pass to the LSTM cell with [`tf.nn.embedding_lookup`](https://www.tensorflow.org/api_docs/python/tf/nn/embedding_lookup). This function takes the embedding matrix and an input tensor, such as the review vectors. Then, it'll return another tensor with the embedded vectors. So, if the embedding layer has 200 units, the function will return a tensor with size [batch_size, 200].\n",
    "\n"
   ]
  },
  {
   "cell_type": "code",
   "execution_count": 66,
   "metadata": {
    "collapsed": false,
    "deletable": true,
    "editable": true
   },
   "outputs": [],
   "source": [
    "# Size of the embedding vectors (number of units in the embedding layer)\n",
    "embed_size = 300 \n",
    "\n",
    "with graph.as_default():\n",
    "    embedding = tf.Variable(tf.random_uniform((n_words, embed_size), -1, 1))\n",
    "    embed = tf.nn.embedding_lookup(embedding, inputs_\n",
    "                                  )"
   ]
  },
  {
   "cell_type": "markdown",
   "metadata": {
    "deletable": true,
    "editable": true
   },
   "source": [
    "### LSTM cell\n",
    "\n",
    "<img src=\"assets/network_diagram.png\" width=400px>\n",
    "\n",
    "Next, we'll create our LSTM cells to use in the recurrent network ([TensorFlow documentation](https://www.tensorflow.org/api_docs/python/tf/contrib/rnn)). Here we are just defining what the cells look like. This isn't actually building the graph, just defining the type of cells we want in our graph.\n",
    "\n",
    "To create a basic LSTM cell for the graph, you'll want to use `tf.contrib.rnn.BasicLSTMCell`. Looking at the function documentation:\n",
    "\n",
    "```\n",
    "tf.contrib.rnn.BasicLSTMCell(num_units, forget_bias=1.0, input_size=None, state_is_tuple=True, activation=<function tanh at 0x109f1ef28>)\n",
    "```\n",
    "\n",
    "you can see it takes a parameter called `num_units`, the number of units in the cell, called `lstm_size` in this code. So then, you can write something like \n",
    "\n",
    "```\n",
    "lstm = tf.contrib.rnn.BasicLSTMCell(num_units)\n",
    "```\n",
    "\n",
    "to create an LSTM cell with `num_units`. Next, you can add dropout to the cell with `tf.contrib.rnn.DropoutWrapper`. This just wraps the cell in another cell, but with dropout added to the inputs and/or outputs. It's a really convenient way to make your network better with almost no effort! So you'd do something like\n",
    "\n",
    "```\n",
    "drop = tf.contrib.rnn.DropoutWrapper(cell, output_keep_prob=keep_prob)\n",
    "```\n",
    "\n",
    "Most of the time, your network will have better performance with more layers. That's sort of the magic of deep learning, adding more layers allows the network to learn really complex relationships. Again, there is a simple way to create multiple layers of LSTM cells with `tf.contrib.rnn.MultiRNNCell`:\n",
    "\n",
    "```\n",
    "cell = tf.contrib.rnn.MultiRNNCell([drop] * lstm_layers)\n",
    "```\n",
    "\n",
    "Here, `[drop] * lstm_layers` creates a list of cells (`drop`) that is `lstm_layers` long. The `MultiRNNCell` wrapper builds this into multiple layers of RNN cells, one for each cell in the list.\n",
    "\n",
    "So the final cell you're using in the network is actually multiple (or just one) LSTM cells with dropout. But it all works the same from an architectural viewpoint, just a more complicated graph in the cell.\n",
    "\n",
    "> **Exercise:** Below, use `tf.contrib.rnn.BasicLSTMCell` to create an LSTM cell. Then, add drop out to it with `tf.contrib.rnn.DropoutWrapper`. Finally, create multiple LSTM layers with `tf.contrib.rnn.MultiRNNCell`.\n",
    "\n",
    "Here is [a tutorial on building RNNs](https://www.tensorflow.org/tutorials/recurrent) that will help you out.\n"
   ]
  },
  {
   "cell_type": "code",
   "execution_count": 67,
   "metadata": {
    "collapsed": true,
    "deletable": true,
    "editable": true
   },
   "outputs": [],
   "source": [
    "with graph.as_default():\n",
    "    # Your basic LSTM cell\n",
    "    lstm = tf.contrib.rnn.BasicLSTMCell(lstm_size)\n",
    "    \n",
    "    # Add dropout to the cell\n",
    "    drop = tf.contrib.rnn.DropoutWrapper(lstm, output_keep_prob = keep_prob)\n",
    "    \n",
    "    # Stack up multiple LSTM layers, for deep learning\n",
    "    cell = tf.contrib.rnn.MultiRNNCell([drop] * lstm_layers)\n",
    "    \n",
    "    # Getting an initial state of all zeros\n",
    "    initial_state = cell.zero_state(batch_size, tf.float32)"
   ]
  },
  {
   "cell_type": "markdown",
   "metadata": {
    "deletable": true,
    "editable": true
   },
   "source": [
    "### RNN forward pass\n",
    "\n",
    "<img src=\"assets/network_diagram.png\" width=400px>\n",
    "\n",
    "Now we need to actually run the data through the RNN nodes. You can use [`tf.nn.dynamic_rnn`](https://www.tensorflow.org/api_docs/python/tf/nn/dynamic_rnn) to do this. You'd pass in the RNN cell you created (our multiple layered LSTM `cell` for instance), and the inputs to the network.\n",
    "\n",
    "```\n",
    "outputs, final_state = tf.nn.dynamic_rnn(cell, inputs, initial_state=initial_state)\n",
    "```\n",
    "\n",
    "Above I created an initial state, `initial_state`, to pass to the RNN. This is the cell state that is passed between the hidden layers in successive time steps. `tf.nn.dynamic_rnn` takes care of most of the work for us. We pass in our cell and the input to the cell, then it does the unrolling and everything else for us. It returns outputs for each time step and the final_state of the hidden layer.\n",
    "\n",
    "> **Exercise:** Use `tf.nn.dynamic_rnn` to add the forward pass through the RNN. Remember that we're actually passing in vectors from the embedding layer, `embed`.\n",
    "\n"
   ]
  },
  {
   "cell_type": "code",
   "execution_count": 70,
   "metadata": {
    "collapsed": false,
    "deletable": true,
    "editable": true
   },
   "outputs": [],
   "source": [
    "with graph.as_default():\n",
    "    outputs, final_state = tf.nn.dynamic_rnn(cell, embed, initial_state = initial_state)"
   ]
  },
  {
   "cell_type": "markdown",
   "metadata": {
    "deletable": true,
    "editable": true
   },
   "source": [
    "### Output\n",
    "\n",
    "We only care about the final output, we'll be using that as our sentiment prediction. So we need to grab the last output with `outputs[:, -1]`, the calculate the cost from that and `labels_`."
   ]
  },
  {
   "cell_type": "code",
   "execution_count": 71,
   "metadata": {
    "collapsed": true,
    "deletable": true,
    "editable": true
   },
   "outputs": [],
   "source": [
    "with graph.as_default():\n",
    "    predictions = tf.contrib.layers.fully_connected(outputs[:, -1], 1, activation_fn=tf.sigmoid)\n",
    "    cost = tf.losses.mean_squared_error(labels_, predictions)\n",
    "    \n",
    "    optimizer = tf.train.AdamOptimizer(learning_rate).minimize(cost)"
   ]
  },
  {
   "cell_type": "markdown",
   "metadata": {
    "deletable": true,
    "editable": true
   },
   "source": [
    "### Validation accuracy\n",
    "\n",
    "Here we can add a few nodes to calculate the accuracy which we'll use in the validation pass."
   ]
  },
  {
   "cell_type": "code",
   "execution_count": 72,
   "metadata": {
    "collapsed": true,
    "deletable": true,
    "editable": true
   },
   "outputs": [],
   "source": [
    "with graph.as_default():\n",
    "    correct_pred = tf.equal(tf.cast(tf.round(predictions), tf.int32), labels_)\n",
    "    accuracy = tf.reduce_mean(tf.cast(correct_pred, tf.float32))"
   ]
  },
  {
   "cell_type": "markdown",
   "metadata": {
    "deletable": true,
    "editable": true
   },
   "source": [
    "### Batching\n",
    "\n",
    "This is a simple function for returning batches from our data. First it removes data such that we only have full batches. Then it iterates through the `x` and `y` arrays and returns slices out of those arrays with size `[batch_size]`."
   ]
  },
  {
   "cell_type": "code",
   "execution_count": 73,
   "metadata": {
    "collapsed": true,
    "deletable": true,
    "editable": true
   },
   "outputs": [],
   "source": [
    "def get_batches(x, y, batch_size=100):\n",
    "    \n",
    "    n_batches = len(x)//batch_size\n",
    "    x, y = x[:n_batches*batch_size], y[:n_batches*batch_size]\n",
    "    for ii in range(0, len(x), batch_size):\n",
    "        yield x[ii:ii+batch_size], y[ii:ii+batch_size]"
   ]
  },
  {
   "cell_type": "markdown",
   "metadata": {
    "deletable": true,
    "editable": true
   },
   "source": [
    "## Training\n",
    "\n",
    "Below is the typical training code. If you want to do this yourself, feel free to delete all this code and implement it yourself. Before you run this, make sure the `checkpoints` directory exists."
   ]
  },
  {
   "cell_type": "code",
   "execution_count": null,
   "metadata": {
    "collapsed": false,
    "deletable": true,
    "editable": true
   },
   "outputs": [
    {
     "name": "stdout",
     "output_type": "stream",
     "text": [
      "Epoch: 0/10 Iteration: 5 Train loss: 0.242\n",
      "Epoch: 0/10 Iteration: 10 Train loss: 0.240\n",
      "Epoch: 0/10 Iteration: 15 Train loss: 0.213\n",
      "Epoch: 0/10 Iteration: 20 Train loss: 0.194\n"
     ]
    }
   ],
   "source": [
    "epochs = 10\n",
    "\n",
    "with graph.as_default():\n",
    "    saver = tf.train.Saver()\n",
    "\n",
    "with tf.Session(graph=graph) as sess:\n",
    "    sess.run(tf.global_variables_initializer())\n",
    "    iteration = 1\n",
    "    for e in range(epochs):\n",
    "        state = sess.run(initial_state)\n",
    "        \n",
    "        for ii, (x, y) in enumerate(get_batches(train_x, train_y, batch_size), 1):\n",
    "            feed = {inputs_: x,\n",
    "                    labels_: y[:, None],\n",
    "                    keep_prob: 0.5,\n",
    "                    initial_state: state}\n",
    "            loss, state, _ = sess.run([cost, final_state, optimizer], feed_dict=feed)\n",
    "            \n",
    "            if iteration%5==0:\n",
    "                print(\"Epoch: {}/{}\".format(e, epochs),\n",
    "                      \"Iteration: {}\".format(iteration),\n",
    "                      \"Train loss: {:.3f}\".format(loss))\n",
    "\n",
    "            if iteration%25==0:\n",
    "                val_acc = []\n",
    "                val_state = sess.run(cell.zero_state(batch_size, tf.float32))\n",
    "                for x, y in get_batches(val_x, val_y, batch_size):\n",
    "                    feed = {inputs_: x,\n",
    "                            labels_: y[:, None],\n",
    "                            keep_prob: 1,\n",
    "                            initial_state: val_state}\n",
    "                    batch_acc, val_state = sess.run([accuracy, final_state], feed_dict=feed)\n",
    "                    val_acc.append(batch_acc)\n",
    "                print(\"Val acc: {:.3f}\".format(np.mean(val_acc)))\n",
    "            iteration +=1\n",
    "    saver.save(sess, \"checkpoints/sentiment.ckpt\")"
   ]
  },
  {
   "cell_type": "markdown",
   "metadata": {
    "deletable": true,
    "editable": true
   },
   "source": [
    "## Testing"
   ]
  },
  {
   "cell_type": "code",
   "execution_count": null,
   "metadata": {
    "collapsed": true,
    "deletable": true,
    "editable": true
   },
   "outputs": [],
   "source": [
    "test_acc = []\n",
    "with tf.Session(graph=graph) as sess:\n",
    "    saver.restore(sess, tf.train.latest_checkpoint('checkpoints'))\n",
    "    test_state = sess.run(cell.zero_state(batch_size, tf.float32))\n",
    "    for ii, (x, y) in enumerate(get_batches(test_x, test_y, batch_size), 1):\n",
    "        feed = {inputs_: x,\n",
    "                labels_: y[:, None],\n",
    "                keep_prob: 1,\n",
    "                initial_state: test_state}\n",
    "        batch_acc, test_state = sess.run([accuracy, final_state], feed_dict=feed)\n",
    "        test_acc.append(batch_acc)\n",
    "    print(\"Test accuracy: {:.3f}\".format(np.mean(test_acc)))"
   ]
  },
  {
   "cell_type": "code",
   "execution_count": null,
   "metadata": {
    "collapsed": true
   },
   "outputs": [],
   "source": []
  }
 ],
 "metadata": {
  "kernelspec": {
   "display_name": "Python 3",
   "language": "python",
   "name": "python3"
  },
  "language_info": {
   "codemirror_mode": {
    "name": "ipython",
    "version": 3
   },
   "file_extension": ".py",
   "mimetype": "text/x-python",
   "name": "python",
   "nbconvert_exporter": "python",
   "pygments_lexer": "ipython3",
   "version": "3.5.3"
  }
 },
 "nbformat": 4,
 "nbformat_minor": 2
}
